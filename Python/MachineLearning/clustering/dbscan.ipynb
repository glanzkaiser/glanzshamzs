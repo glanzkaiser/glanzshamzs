{
 "cells": [
  {
   "cell_type": "code",
   "execution_count": 1,
   "id": "b3aab371-d531-4090-8e7d-9127b572eaff",
   "metadata": {},
   "outputs": [],
   "source": [
    "import pandas as pd\n",
    "import numpy as np\n",
    "from sklearn.decomposition import PCA\n",
    "import matplotlib.pyplot as plt\n",
    "import seaborn as sns\n",
    "sns.set()"
   ]
  },
  {
   "cell_type": "code",
   "execution_count": 2,
   "id": "b741e6c0-ec05-42e2-aaf6-94666f070954",
   "metadata": {},
   "outputs": [
    {
     "data": {
      "text/html": [
       "<div>\n",
       "<style scoped>\n",
       "    .dataframe tbody tr th:only-of-type {\n",
       "        vertical-align: middle;\n",
       "    }\n",
       "\n",
       "    .dataframe tbody tr th {\n",
       "        vertical-align: top;\n",
       "    }\n",
       "\n",
       "    .dataframe thead th {\n",
       "        text-align: right;\n",
       "    }\n",
       "</style>\n",
       "<table border=\"1\" class=\"dataframe\">\n",
       "  <thead>\n",
       "    <tr style=\"text-align: right;\">\n",
       "      <th></th>\n",
       "      <th>SepalLengthCm</th>\n",
       "      <th>SepalWidthCm</th>\n",
       "      <th>PetalLengthCm</th>\n",
       "      <th>PetalWidthCm</th>\n",
       "    </tr>\n",
       "  </thead>\n",
       "  <tbody>\n",
       "    <tr>\n",
       "      <th>0</th>\n",
       "      <td>5.1</td>\n",
       "      <td>3.5</td>\n",
       "      <td>1.4</td>\n",
       "      <td>0.2</td>\n",
       "    </tr>\n",
       "    <tr>\n",
       "      <th>1</th>\n",
       "      <td>4.9</td>\n",
       "      <td>3.0</td>\n",
       "      <td>1.4</td>\n",
       "      <td>0.2</td>\n",
       "    </tr>\n",
       "    <tr>\n",
       "      <th>2</th>\n",
       "      <td>4.7</td>\n",
       "      <td>3.2</td>\n",
       "      <td>1.3</td>\n",
       "      <td>0.2</td>\n",
       "    </tr>\n",
       "    <tr>\n",
       "      <th>3</th>\n",
       "      <td>4.6</td>\n",
       "      <td>3.1</td>\n",
       "      <td>1.5</td>\n",
       "      <td>0.2</td>\n",
       "    </tr>\n",
       "    <tr>\n",
       "      <th>4</th>\n",
       "      <td>5.0</td>\n",
       "      <td>3.6</td>\n",
       "      <td>1.4</td>\n",
       "      <td>0.2</td>\n",
       "    </tr>\n",
       "  </tbody>\n",
       "</table>\n",
       "</div>"
      ],
      "text/plain": [
       "   SepalLengthCm  SepalWidthCm  PetalLengthCm  PetalWidthCm\n",
       "0            5.1           3.5            1.4           0.2\n",
       "1            4.9           3.0            1.4           0.2\n",
       "2            4.7           3.2            1.3           0.2\n",
       "3            4.6           3.1            1.5           0.2\n",
       "4            5.0           3.6            1.4           0.2"
      ]
     },
     "execution_count": 2,
     "metadata": {},
     "output_type": "execute_result"
    }
   ],
   "source": [
    "df = pd.read_csv('Iris.csv').iloc[:,1:-1]\n",
    "df.head()"
   ]
  },
  {
   "cell_type": "code",
   "execution_count": 3,
   "id": "5c603636-4267-4cd4-b4c3-5b160dd0981b",
   "metadata": {},
   "outputs": [],
   "source": [
    "df = PCA(n_components = 2).fit_transform(df.values)\n",
    "\n",
    "def euclidean_distance(x1, x2):\n",
    "    distance = 0\n",
    "    for i in range(len(x1)):\n",
    "        distance += np.square(x1[i] - x2[i])\n",
    "    return np.sqrt(distance)\n",
    "\n",
    "class DBSCAN:\n",
    "    def __init__(self,min_samples=5,epsilon=1):\n",
    "        self.min_samples = min_samples\n",
    "        self.epsilon = epsilon\n",
    "        \n",
    "    def _neighbors(self,sample_i):\n",
    "        neighbors = []\n",
    "        ids = np.arange(self.X.shape[0])\n",
    "        for i, sample in enumerate(self.X[ids != sample_i]):\n",
    "            if euclidean_distance(self.X[sample_i],sample) < self.epsilon:\n",
    "                neighbors.append(i)\n",
    "        return np.array(neighbors)\n",
    "    \n",
    "    def _expand(self, sample_i, neighbors):\n",
    "        cluster = [sample_i]\n",
    "        for i in neighbors:\n",
    "            if i not in self.visited_samples:\n",
    "                self.visited_samples.append(i)\n",
    "                self.neighbors[i] = self._neighbors(i)\n",
    "                if len(self.neighbors[i]) >= self.min_samples:\n",
    "                    expanded_cluster = self._expand(i,self.neighbors[i])\n",
    "                    cluster = cluster + expanded_cluster\n",
    "                else:\n",
    "                    cluster.append(i)\n",
    "        return cluster\n",
    "    \n",
    "    def _get_label(self):\n",
    "        labels = np.full(shape=self.X.shape[0], fill_value=len(self.clusters))\n",
    "        for i, cluster in enumerate(self.clusters):\n",
    "            for sample in cluster:\n",
    "                labels[sample] = i\n",
    "        return labels\n",
    "    \n",
    "    def fit_predict(self,X):\n",
    "        self.X = X\n",
    "        self.clusters = []\n",
    "        self.visited_samples = []\n",
    "        self.neighbors = {}\n",
    "        n_samples = self.X.shape[0]\n",
    "        for i in range(n_samples):\n",
    "            if i in self.visited_samples:\n",
    "                continue\n",
    "            self.neighbors[i] = self._neighbors(i)\n",
    "            if len(self.neighbors[i]) >= self.min_samples:\n",
    "                self.visited_samples.append(i)\n",
    "                new_cluster = self._expand(i,self.neighbors[i])\n",
    "                self.clusters.append(new_cluster)\n",
    "        return self._get_label()\n",
    "   \n",
    "Y = DBSCAN().fit_predict(df)"
   ]
  },
  {
   "cell_type": "code",
   "execution_count": 4,
   "id": "8998556e-adee-4214-aa8d-3b615a6e86f9",
   "metadata": {},
   "outputs": [
    {
     "data": {
      "image/png": "[encoded data removed]",
      "text/plain": [
       "<Figure size 720x360 with 1 Axes>"
      ]
     },
     "metadata": {},
     "output_type": "display_data"
    }
   ],
   "source": [
    "fig = plt.figure(figsize=(10,5))\n",
    "colors = sns.color_palette()\n",
    "for no, i in enumerate(np.unique(Y)):\n",
    "    plt.scatter(df[Y==i,0], df[Y==i,1], color=colors[no],label = no)\n",
    "plt.legend()\n",
    "plt.show()"
   ]
  },
  {
   "cell_type": "code",
   "execution_count": null,
   "id": "325b55e8-9ca9-4772-89af-f9b34a480a0b",
   "metadata": {},
   "outputs": [],
   "source": []
  }
 ],
 "metadata": {
  "kernelspec": {
   "display_name": "Python 3 (ipykernel)",
   "language": "python",
   "name": "python3"
  },
  "language_info": {
   "codemirror_mode": {
    "name": "ipython",
    "version": 3
   },
   "file_extension": ".py",
   "mimetype": "text/x-python",
   "name": "python",
   "nbconvert_exporter": "python",
   "pygments_lexer": "ipython3",
   "version": "3.9.7"
  }
 },
 "nbformat": 4,
 "nbformat_minor": 5
}
