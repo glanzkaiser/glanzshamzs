{
 "cells": [
  {
   "cell_type": "code",
   "execution_count": 1,
   "id": "daa3d6e9-5da7-4126-ab29-73b2f191c2d9",
   "metadata": {},
   "outputs": [],
   "source": [
    "import math\n",
    "import matplotlib.pyplot as plt\n",
    "import numpy as np\n",
    "from mpl_toolkits.axisartist import SubplotZero"
   ]
  },
  {
   "cell_type": "markdown",
   "id": "00b5ad81-d517-47d5-b95a-54ffd73842c6",
   "metadata": {
    "tags": []
   },
   "source": [
    "# Trigonometric Axis"
   ]
  },
  {
   "cell_type": "code",
   "execution_count": 2,
   "id": "55ebcb72-ddcb-4f9d-872f-4649836f7dda",
   "metadata": {},
   "outputs": [],
   "source": [
    "class TrigAxes():\n",
    "    \n",
    "    def __init__(self, figsize=(12,5)):\n",
    "        self.xlim = (-1.2, 1.2)\n",
    "        self.ylim = (-1.2, 1.2)\n",
    "        self.figsize  = figsize\n",
    "        self.angles   = []\n",
    "        self.scale_arrows()\n",
    "\n",
    "    def __arrow__(self, x, y, dx, dy, width, length):\n",
    "        plt.arrow(\n",
    "            x, y, dx, dy, \n",
    "            color       = 'k',\n",
    "            clip_on     = False, \n",
    "            head_width  = self.head_width, \n",
    "            head_length = self.head_length\n",
    "        ) \n",
    "        \n",
    "    def __drawAxis__(self):\n",
    "        \"\"\"\n",
    "        Draws the 2D cartesian axis\n",
    "        \"\"\"\n",
    "        # A subplot with two additional axis, \"xzero\" and \"yzero\"\n",
    "        # corresponding to the cartesian axis\n",
    "        ax = SubplotZero(self.fig, 1, 1, 1)\n",
    "        self.fig.add_subplot(ax)\n",
    "        \n",
    "        # make xzero axis (horizontal axis line through y=0) visible.\n",
    "        for axis in [\"xzero\",\"yzero\"]:\n",
    "            ax.axis[axis].set_visible(True)\n",
    "        # make the other axis (left, bottom, top, right) invisible\n",
    "        for n in [\"left\", \"right\", \"bottom\", \"top\"]:\n",
    "            ax.axis[n].set_visible(False)\n",
    "            \n",
    "        # Plot limits\n",
    "        plt.xlim(self.xlim)\n",
    "        plt.ylim(self.ylim)\n",
    "        \n",
    "        # No ticks for the trigonometric circle\n",
    "        ax = plt.gca()\n",
    "        ax.axes.xaxis.set_ticks([])\n",
    "        ax.axes.yaxis.set_ticks([])\n",
    "\n",
    "        # Draw the trigonometric circle\n",
    "        self.circle = plt.Circle((0, 0), 1, color='#000000', fill=False)\n",
    "        ax.add_artist(self.circle)\n",
    "        \n",
    "        # Draw the arrows\n",
    "        self.__arrow__(self.xlim[1], 0, 0.01, 0, 0.3, 0.2) # x-axis arrow\n",
    "        self.__arrow__(0, self.ylim[1], 0, 0.01, 0.2, 0.3) # y-axis arrow\n",
    "        \n",
    "    def scale_arrows(self):\n",
    "        \"\"\" Make the arrows look good regardless of the axis limits \"\"\"\n",
    "        xrange = self.xlim[1] - self.xlim[0]\n",
    "        yrange = self.ylim[1] - self.ylim[0]\n",
    "        \n",
    "        self.head_width  = min(xrange/30, 0.25)\n",
    "        self.head_length = min(yrange/30, 0.3)\n",
    "        \n",
    "        \n",
    "    def draw(self, imgpath=None):\n",
    "        \n",
    "        self.scale_arrows()\n",
    "        self.fig = plt.figure(figsize=self.figsize)\n",
    "        # First draw the axis\n",
    "        self.__drawAxis__()\n",
    "        # Plot each vector\n",
    "        for angle in self.angles:\n",
    "            angle.draw()\n",
    "        # Save the image?\n",
    "        if imgpath:\n",
    "            plt.tight_layout()\n",
    "            plt.savefig(imgpath, dpi=100)\n",
    "        plt.show()\n",
    "    \n",
    "    #-------------------------------------------------\n",
    "    # Angles\n",
    "    #-------------------------------------------------\n",
    "    def addAngles(self, angles):\n",
    "        for a in angles:\n",
    "            self.addAngle(a)\n",
    "            \n",
    "    def addAngle(self, a):\n",
    "        # Modify the head length & width of the vector \n",
    "        # so it looks good for this axis\n",
    "        a.head_width  =  self.head_width / 2.\n",
    "        a.head_length =  self.head_length / 2.\n",
    "        self.angles.append(a)"
   ]
  },
  {
   "cell_type": "markdown",
   "id": "72de4fd6-3743-472c-b352-16a702d80e8f",
   "metadata": {
    "tags": []
   },
   "source": [
    "# Angle"
   ]
  },
  {
   "cell_type": "code",
   "execution_count": 3,
   "id": "815c1586-f1ae-4ce4-b1ec-53105adc0ed6",
   "metadata": {},
   "outputs": [],
   "source": [
    "class Angle():\n",
    "    \"\"\"\n",
    "    Angle(theta, label)\n",
    "        theta: angle on the trigonometric circle\n",
    "        label: optional label, default is theta\n",
    "    \"\"\"\n",
    "    def __init__(self, theta, \n",
    "                 label       = None,\n",
    "                 color       = '#6897bb', \n",
    "                 linewidth   = 0.01, \n",
    "                 linestyle   = '-',\n",
    "                 head_width  = 0.25,\n",
    "                 head_length = 0.3\n",
    "                ):\n",
    "        # Theta, label\n",
    "        self.theta = math.radians(theta)\n",
    "        if label:\n",
    "            self.label = str(label)\n",
    "        else:\n",
    "            self.label = str(theta)\n",
    "            \n",
    "        # Drawing options\n",
    "        self.color = color\n",
    "        self.linewidth = linewidth\n",
    "        self.linestyle = linestyle\n",
    "        self.head_width  = head_width\n",
    "        self.head_length = head_length\n",
    "        self.text_args = {\n",
    "            'ha': 'left', \n",
    "            'va': 'center', \n",
    "            'fontsize': 12, \n",
    "            'color': self.color\n",
    "        }\n",
    "\n",
    "    \n",
    "    def draw(self):\n",
    "        # Plot the vector\n",
    "        plt.arrow(\n",
    "            0, 0,\n",
    "            math.cos(self.theta), math.sin(self.theta), \n",
    "            color = self.color,\n",
    "            width = self.linewidth,\n",
    "            head_width = self.head_width, \n",
    "            head_length = self.head_length\n",
    "        )\n",
    "        # Add the label\n",
    "        plt.text(\n",
    "            math.cos(self.theta) + 0.1,\n",
    "            math.sin(self.theta) + 0.1,\n",
    "            self.label,\n",
    "            **self.text_args\n",
    "        )\n",
    "        "
   ]
  },
  {
   "cell_type": "markdown",
   "id": "e5724d13-6406-475d-aa2c-458eb9dd60f0",
   "metadata": {},
   "source": [
    "# Demo - Circle Alone"
   ]
  },
  {
   "cell_type": "code",
   "execution_count": 4,
   "id": "51b20cec-54bb-486d-a6ea-23ae6a3d1050",
   "metadata": {},
   "outputs": [
    {
     "data": {
      "image/png": "[encoded data removed]",
      "text/plain": [
       "<Figure size 288x288 with 1 Axes>"
      ]
     },
     "metadata": {},
     "output_type": "display_data"
    }
   ],
   "source": [
    "# Create the trigonometric axis\n",
    "axes = TrigAxes(figsize=(4,4))\n",
    "\n",
    "axes.draw(imgpath=\"../img/trig_circle.png\")\n"
   ]
  },
  {
   "cell_type": "markdown",
   "id": "8be35eb5-bffb-456c-8ce2-ba08bd7470b2",
   "metadata": {},
   "source": [
    "# Demo - Circle + Angles"
   ]
  },
  {
   "cell_type": "code",
   "execution_count": 5,
   "id": "2df8f9b6-4146-42c8-8ddb-5e9850b7c3bb",
   "metadata": {},
   "outputs": [
    {
     "data": {
      "image/png": "[encoded data removed]",
      "text/plain": [
       "<Figure size 360x288 with 1 Axes>"
      ]
     },
     "metadata": {},
     "output_type": "display_data"
    }
   ],
   "source": [
    "# Create the trigonometric axis\n",
    "axes = TrigAxes(figsize=(5,4))\n",
    "\n",
    "axes.addAngle(Angle(45, label='theta1 = 45', color='blue', linewidth=0.02))\n",
    "axes.addAngle(Angle(-60, label='theta2 = -60', color='red', linewidth=0.02))\n",
    "\n",
    "axes.draw(imgpath=\"../img/circle_angles.png\")"
   ]
  },
  {
   "cell_type": "code",
   "execution_count": null,
   "id": "4b04c897-1179-4a4a-a6db-fc7bb0c2d926",
   "metadata": {},
   "outputs": [],
   "source": []
  }
 ],
 "metadata": {
  "kernelspec": {
   "display_name": "Python 3 (ipykernel)",
   "language": "python",
   "name": "python3"
  },
  "language_info": {
   "codemirror_mode": {
    "name": "ipython",
    "version": 3
   },
   "file_extension": ".py",
   "mimetype": "text/x-python",
   "name": "python",
   "nbconvert_exporter": "python",
   "pygments_lexer": "ipython3",
   "version": "3.9.7"
  }
 },
 "nbformat": 4,
 "nbformat_minor": 5
}
