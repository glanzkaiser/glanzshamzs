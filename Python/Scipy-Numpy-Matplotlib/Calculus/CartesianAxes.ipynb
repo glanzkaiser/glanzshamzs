{
 "cells": [
  {
   "cell_type": "code",
   "execution_count": 1,
   "id": "3db50f8b-c9cf-41ef-9fef-3f754bf846b2",
   "metadata": {},
   "outputs": [],
   "source": [
    "import math\n",
    "import matplotlib.pyplot as plt\n",
    "import numpy as np\n",
    "from mpl_toolkits.axisartist import SubplotZero"
   ]
  },
  {
   "cell_type": "markdown",
   "id": "257db6d9-35c2-4ddb-b9d6-497d9e280138",
   "metadata": {},
   "source": [
    "# Axis"
   ]
  },
  {
   "cell_type": "code",
   "execution_count": 2,
   "id": "ea18e515-f588-461f-bc49-845ed28a090d",
   "metadata": {},
   "outputs": [],
   "source": [
    "class Axes():\n",
    "    \n",
    "    def __init__(self, xlim=(-5,5), ylim=(-5,5), figsize=(12,5)):\n",
    "        self.xlim = xlim\n",
    "        self.ylim = ylim\n",
    "        self.figsize  = figsize\n",
    "        self.points   = []\n",
    "        self.segments = []\n",
    "        self.vectors  = []\n",
    "        self.lines    = []\n",
    "        self.scale_arrows()\n",
    "\n",
    "    def __arrow__(self, x, y, dx, dy, width, length):\n",
    "        plt.arrow(\n",
    "            x, y, dx, dy, \n",
    "            color       = 'k',\n",
    "            clip_on     = False, \n",
    "            head_width  = self.head_width, \n",
    "            head_length = self.head_length\n",
    "        ) \n",
    "        \n",
    "    def __drawAxis__(self):\n",
    "        \"\"\"\n",
    "        Draws the 2D cartesian axis\n",
    "        \"\"\"\n",
    "        # A subplot with two additional axis, \"xzero\" and \"yzero\"\n",
    "        # corresponding to the cartesian axis\n",
    "        ax = SubplotZero(self.fig, 1, 1, 1)\n",
    "        self.fig.add_subplot(ax)\n",
    "        \n",
    "        # make xzero axis (horizontal axis line through y=0) visible.\n",
    "        for axis in [\"xzero\",\"yzero\"]:\n",
    "            ax.axis[axis].set_visible(True)\n",
    "        # make the other axis (left, bottom, top, right) invisible\n",
    "        for n in [\"left\", \"right\", \"bottom\", \"top\"]:\n",
    "            ax.axis[n].set_visible(False)\n",
    "            \n",
    "        # Plot limits\n",
    "        plt.xlim(self.xlim)\n",
    "        plt.ylim(self.ylim)\n",
    "\n",
    "        # Draw the arrows\n",
    "        self.__arrow__(self.xlim[1], 0, 0.01, 0, 0.3, 0.2) # x-axis arrow\n",
    "        self.__arrow__(0, self.ylim[1], 0, 0.01, 0.2, 0.3) # y-axis arrow\n",
    "        \n",
    "        \n",
    "    def scale_arrows(self):\n",
    "        \"\"\" Make the arrows look good regardless of the axis limits \"\"\"\n",
    "        xrange = self.xlim[1] - self.xlim[0]\n",
    "        yrange = self.ylim[1] - self.ylim[0]\n",
    "        \n",
    "        self.head_width  = min(xrange/30, 0.25)\n",
    "        self.head_length = min(yrange/30, 0.3)\n",
    "        \n",
    "        \n",
    "    def draw(self, image=None):\n",
    "        self.scale_arrows()\n",
    "        self.fig = plt.figure(figsize=self.figsize)\n",
    "        # First draw the axis\n",
    "        self.__drawAxis__()\n",
    "        # Plot each point\n",
    "        for point in self.points:\n",
    "            point.draw()\n",
    "        # Save the image?\n",
    "        if image:\n",
    "            plt.savefig(image)\n",
    "        plt.show()\n",
    "        \n",
    "    def addPoints(self, points):\n",
    "        for p in points:\n",
    "            self.addPoint(p)\n",
    "            \n",
    "    def addPoint(self, p):\n",
    "        self.points.append(p)\n",
    "        "
   ]
  },
  {
   "cell_type": "markdown",
   "id": "76702de4-70f8-4ab9-89fc-171640d8bd79",
   "metadata": {},
   "source": [
    "# Point"
   ]
  },
  {
   "cell_type": "code",
   "execution_count": 3,
   "id": "3c0fd65e-bcaa-4d64-b12a-7920dda9a0fd",
   "metadata": {},
   "outputs": [],
   "source": [
    "class Point():\n",
    "    \n",
    "    def __init__(self, x, y, color='#4ca3dd', size=50, add_coordinates=True):\n",
    "        self.x = x\n",
    "        self.y = y\n",
    "        self.color = color\n",
    "        self.size  = size\n",
    "        self.add_coordinates = add_coordinates\n",
    "        self.y_offset = 0.2\n",
    "        self.items = np.array([x,y])\n",
    "        self.len = 2\n",
    "        \n",
    "    def __getitem__(self, index):\n",
    "        return self.items[index]\n",
    "    \n",
    "    def __str__(self):\n",
    "        return \"Point(%.2f,%.2f)\" % (self.x, self.y)\n",
    "    \n",
    "    def __repr__(self):\n",
    "        return \"Point(%.2f,%.2f)\" % (self.x, self.y)\n",
    "    \n",
    "    def __len__(self):\n",
    "        return self.len\n",
    "    \n",
    "    def draw(self):\n",
    "        plt.scatter([self.x], [self.y], color=self.color, s=self.size)\n",
    "        \n",
    "        # Add the coordinates if asked by user\n",
    "        if self.add_coordinates:\n",
    "            plt.text(\n",
    "                self.x, self.y + self.y_offset,\n",
    "                \"(%.1f,%.1f)\"%(self.x,self.y),\n",
    "                horizontalalignment='center',\n",
    "                verticalalignment='bottom',\n",
    "                fontsize=12\n",
    "            )\n"
   ]
  },
  {
   "cell_type": "markdown",
   "id": "9c3c137d-b1a2-445b-a342-c759ca660ef3",
   "metadata": {},
   "source": [
    "# Demo"
   ]
  },
  {
   "cell_type": "code",
   "execution_count": 4,
   "id": "52b7ddab-ffa0-4e70-b1ff-3b2df3749b66",
   "metadata": {},
   "outputs": [
    {
     "data": {
      "image/png": "[encoded data removed]",
      "text/plain": [
       "<Figure size 648x504 with 1 Axes>"
      ]
     },
     "metadata": {
      "needs_background": "light"
     },
     "output_type": "display_data"
    }
   ],
   "source": [
    "# Create the cartesian axis\n",
    "axes = Axes(xlim=(-1,8), ylim=(-1,18), figsize=(9,7))\n",
    "\n",
    "# Create two points\n",
    "p1 = Point(2,  5, color='#ffa500')\n",
    "p2 = Point(7, 17, color='#0000ff')\n",
    "\n",
    "axes.addPoints([p1, p2])\n",
    "axes.draw(\"../img/python_cartesian_axis_points.png\")"
   ]
  },
  {
   "cell_type": "code",
   "execution_count": null,
   "id": "ea7ebd01-3c1c-46ff-bea8-3b83689684d5",
   "metadata": {},
   "outputs": [],
   "source": []
  }
 ],
 "metadata": {
  "kernelspec": {
   "display_name": "Python 3 (ipykernel)",
   "language": "python",
   "name": "python3"
  },
  "language_info": {
   "codemirror_mode": {
    "name": "ipython",
    "version": 3
   },
   "file_extension": ".py",
   "mimetype": "text/x-python",
   "name": "python",
   "nbconvert_exporter": "python",
   "pygments_lexer": "ipython3",
   "version": "3.9.7"
  }
 },
 "nbformat": 4,
 "nbformat_minor": 5
}
