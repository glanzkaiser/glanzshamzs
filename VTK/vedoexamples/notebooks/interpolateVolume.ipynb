{
 "cells": [
  {
   "cell_type": "code",
   "execution_count": 4,
   "metadata": {},
   "outputs": [
    {
     "name": "stdout",
     "output_type": "stream",
     "text": [
      "Histogram\t(entries=100000)\n",
      "12819                                              ▉    \n",
      "   |                                               ▉    \n",
      "   |                                               ▉    \n",
      "   |                                               ▉    \n",
      "   |                                               ▉    \n",
      "   |                                               ▉    \n",
      "   |                                               ▉    \n",
      "   |                                               ▉    \n",
      "   |     ▉▉▉▉                                   ▉▉▉▉    \n",
      "   |    ▉▉▉▉▉▉▉▉▉▉▉▉▉     ▉▉▉▉▉▉▉▉▉▉▉▉▉▉▉▉▉▉▉▉▉▉▉▉▉▉▉▉  \n",
      "0.01..................................................0.99\n",
      "\n"
     ]
    },
    {
     "data": {
      "text/plain": [
       "<vedo.plotter.Plotter at 0x7f66d17af670>"
      ]
     },
     "execution_count": 4,
     "metadata": {},
     "output_type": "execute_result"
    }
   ],
   "source": [
    "\"\"\"Generate a voxel dataset by interpolating a scalar\n",
    "which is only known on a scattered set of points or mesh.\n",
    "Available interpolation kernels are: shepard, gaussian, voronoi, linear.\n",
    "The middle layer is the result of thresholding the volume\n",
    "between 0.3 and 0.4 and assigning it the new value of 0.9\"\"\"\n",
    "from vedo import *\n",
    "import numpy as np\n",
    "\n",
    "npts = 500                       # nr. of points of known scalar value\n",
    "coords = np.random.rand(npts, 3) # range is [0, 1]\n",
    "scals = np.abs(coords[:, 2])     # let the scalar be the z of point itself\n",
    "\n",
    "apts = Points(coords)\n",
    "apts.pointdata['scals'] = scals\n",
    "\n",
    "vol = apts.tovolume(kernel='shepard', radius=0.2, dims=(90,90,90))\n",
    "vol.c([\"tomato\", \"g\", \"b\"])      # set color transfer functions\n",
    "\n",
    "# this produces a hole in the histogram in the range [0.3, 0.4]'\n",
    "vol.threshold(above=0.3, below=0.4, replace=0.9) # replace voxel value in [vmin,vmax]\n",
    "printHistogram(vol, bins=25, c='b')\n",
    "\n",
    "plt = show(apts, vol, axes=1, viewup='z', backend=None)\n",
    "plt"
   ]
  },
  {
   "cell_type": "code",
   "execution_count": 5,
   "metadata": {},
   "outputs": [],
   "source": [
    "plt.close()"
   ]
  },
  {
   "cell_type": "code",
   "execution_count": null,
   "metadata": {},
   "outputs": [],
   "source": []
  }
 ],
 "metadata": {
  "kernelspec": {
   "display_name": "Python 3",
   "language": "python",
   "name": "python3"
  },
  "language_info": {
   "codemirror_mode": {
    "name": "ipython",
    "version": 3
   },
   "file_extension": ".py",
   "mimetype": "text/x-python",
   "name": "python",
   "nbconvert_exporter": "python",
   "pygments_lexer": "ipython3",
   "version": "3.8.8"
  }
 },
 "nbformat": 4,
 "nbformat_minor": 2
}
