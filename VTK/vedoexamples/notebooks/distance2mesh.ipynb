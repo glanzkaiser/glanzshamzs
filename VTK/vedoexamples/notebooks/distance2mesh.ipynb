{
 "cells": [
  {
   "cell_type": "code",
   "execution_count": 2,
   "metadata": {},
   "outputs": [
    {
     "name": "stdout",
     "output_type": "stream",
     "text": [
      "\u001b[32;1m_________________________________________________________________\u001b[0m\n",
      "\u001b[2m\u001b[7m\u001b[1m\u001b[32;1mMesh/Points\u001b[0m \n",
      "\u001b[1m\u001b[32;1m           name: \u001b[0m\u001b[32;1mSphere\u001b[0m\n",
      "\u001b[1m\u001b[32;1m         points: \u001b[0m\u001b[32;1m1058\u001b[0m\n",
      "\u001b[1m\u001b[32;1m          cells: \u001b[0m\u001b[32;1m2112\u001b[0m\n",
      "\u001b[1m\u001b[32;1m       polygons: \u001b[0m\u001b[32;1m2112\u001b[0m\n",
      "\u001b[1m\u001b[32;1m       position: \u001b[0m\u001b[32;1m(0.0, 0.0, 0.0)\u001b[0m\n",
      "\u001b[1m\u001b[32;1m          scale: \u001b[0m\u001b[32;1m(1.00, 1.00, 1.00)\u001b[0m\n",
      "\u001b[1m\u001b[32;1m center of mass: \u001b[0m\u001b[32;1m(0, 0, 0)\u001b[0m\n",
      "\u001b[1m\u001b[32;1m   average size: \u001b[0m\u001b[32;1m1.00000\u001b[0m\n",
      "\u001b[1m\u001b[32;1m  diagonal size: \u001b[0m\u001b[32;1m3.45872\u001b[0m\n",
      "\u001b[1m\u001b[32;1m         bounds: \u001b[0m\u001b[32;1mx=(-0.998, 0.998)\u001b[0m\u001b[32;1m y=(-0.998, 0.998)\u001b[0m\u001b[32;1m z=(-1.00, 1.00)\u001b[0m\n",
      "\u001b[1m\u001b[32;1m    scalar mode:\u001b[0m \u001b[32;1mDefault   coloring = Default\u001b[0m\n",
      "\u001b[1m\u001b[32;1m   active array: \u001b[0m\u001b[32;1mDistance (point data)  \u001b[0m\n",
      "\u001b[1m\u001b[32;1m     point data: \u001b[0m\u001b[32;1mname=Normals (3 FLOAT, np.float32),\u001b[0m\u001b[32;1m range=(-0.998,0.998)\u001b[0m\n",
      "\u001b[1m\u001b[32;1m     point data: \u001b[0m\u001b[32;1mname=Distance (1 DOUBLE, np.float64),\u001b[0m\u001b[32;1m range=(1.50,3.50)\u001b[0m\n",
      "[2.54950976 2.54950976 2.41422468 ... 2.14595456 2.27999987 2.41536531]\n"
     ]
    },
    {
     "data": {
      "application/vnd.jupyter.widget-view+json": {
       "model_id": "b796eb2c20d146398cdebb41c8ac8dae",
       "version_major": 2,
       "version_minor": 0
      },
      "text/plain": [
       "ViewInteractiveWidget(height=960, layout=Layout(height='auto', width='100%'), width=960)"
      ]
     },
     "metadata": {},
     "output_type": "display_data"
    }
   ],
   "source": [
    "\"\"\"Compute the (signed) distance from one mesh to another.\"\"\"\n",
    "\n",
    "from vedo import *\n",
    "\n",
    "s1 = Sphere().flat() # flat shading\n",
    "s2 = Cube(pos=(3,0,0), c='white', alpha=0.2)\n",
    "\n",
    "# add scalars to the sphere that correspond to their distance from the cube\n",
    "s1.distanceTo(s2, signed=True, invert=False).addScalarBar()\n",
    "\n",
    "s1.print()\n",
    "print(s1.pointdata[\"Distance\"])\n",
    "\n",
    "plt = show(s1, s2, viewup='z', axes=1, backend='ipyvtk')\n",
    "plt"
   ]
  },
  {
   "cell_type": "code",
   "execution_count": 3,
   "metadata": {},
   "outputs": [],
   "source": [
    "plt.close()"
   ]
  },
  {
   "cell_type": "code",
   "execution_count": null,
   "metadata": {},
   "outputs": [],
   "source": []
  }
 ],
 "metadata": {
  "kernelspec": {
   "display_name": "Python 3 (ipykernel)",
   "language": "python",
   "name": "python3"
  },
  "language_info": {
   "codemirror_mode": {
    "name": "ipython",
    "version": 3
   },
   "file_extension": ".py",
   "mimetype": "text/x-python",
   "name": "python",
   "nbconvert_exporter": "python",
   "pygments_lexer": "ipython3",
   "version": "3.9.7"
  }
 },
 "nbformat": 4,
 "nbformat_minor": 2
}
