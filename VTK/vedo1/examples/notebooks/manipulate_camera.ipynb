{
 "cells": [
  {
   "cell_type": "code",
   "execution_count": null,
   "metadata": {
    "scrolled": true
   },
   "outputs": [],
   "source": [
    "\"\"\"Manipulate Camera for K3D backend\"\"\"\n",
    "import vedo\n",
    "\n",
    "bu = vedo.Mesh(dataurl+'bunny.obj')\n",
    "bu.show(backend='k3d')"
   ]
  },
  {
   "cell_type": "code",
   "execution_count": null,
   "metadata": {},
   "outputs": [],
   "source": [
    "# Manually set the k3d camera. Syntax is:\n",
    "# [posx,posy,posz, targetx,targety,targetz, upx,upy,upz]\n",
    "vedo.notebook_plotter.camera = [0., 0. ,1.,\n",
    "                                0., 0., 0.,\n",
    "                                0., 1., 0.]"
   ]
  },
  {
   "cell_type": "code",
   "execution_count": null,
   "metadata": {},
   "outputs": [],
   "source": [
    "# Convert a vtkCamera object into the appropiate K3D list\n",
    "import vtk\n",
    "vcam = vtk.vtkCamera()\n",
    "vcam.SetPosition( [-0.017, 0.11, 0.48] )\n",
    "vcam.SetFocalPoint( [-0.017, 0.11, -0.001] )\n",
    "vcam.SetViewUp( [0.0, 1.0, 0.0] )\n",
    "vcam.SetDistance( 0.4 )\n",
    "k3dcam = vedo.utils.vtkCameraToK3D(vcam)\n",
    "printc('k3dcam is', k3dcam)\n",
    "\n",
    "vedo.notebook_plotter.camera = k3dcam"
   ]
  },
  {
   "cell_type": "code",
   "execution_count": null,
   "metadata": {},
   "outputs": [],
   "source": []
  }
 ],
 "metadata": {
  "kernelspec": {
   "display_name": "Python 3",
   "language": "python",
   "name": "python3"
  },
  "language_info": {
   "codemirror_mode": {
    "name": "ipython",
    "version": 3
   },
   "file_extension": ".py",
   "mimetype": "text/x-python",
   "name": "python",
   "nbconvert_exporter": "python",
   "pygments_lexer": "ipython3",
   "version": "3.8.8"
  }
 },
 "nbformat": 4,
 "nbformat_minor": 2
}
