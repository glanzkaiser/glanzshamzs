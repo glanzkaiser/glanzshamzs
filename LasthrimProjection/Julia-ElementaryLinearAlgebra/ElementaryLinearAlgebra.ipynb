{
 "cells": [
  {
   "cell_type": "markdown",
   "id": "dfa46389",
   "metadata": {},
   "source": [
    "# 1. Systems of Linear Equations and Matrices\n",
    "\n",
    "A general linear system of $m$ equations in the $n$ unknowns $x_1,x_2, ..., x_n$ can be written as\n",
    "\\begin{equation}\n",
    "\t\ta_{11}x_{1} + a_{12}x_{2} + \\dots + a_{1n}x_{n} = b_{1} \\\\\n",
    "        a_{21}x_{1} + a_{22}x_{2} + \\dots + a_{2n}x_{n} = b_{2} \\\\\n",
    "        \\vdots  \\quad \\quad \\vdots \\quad \\quad \\vdots \\\\\n",
    "        a_{m1}x_{1} + a_{m2}x_{2} + \\dots + a_{mn}x_{n} = b_{m}\n",
    "\\end{equation}\n",
    "\n",
    "A solution of a linear system in $n$ unknowns $x_1,x_2, ..., x_n$ is a sequence of $n$ numbers $s_1,s_2, ..., s_n$  for which the substitution\n",
    "\\begin{equation}\n",
    "    x_1 = s_1, \\quad x_2 = s_2, \\quad \\dots , x_n = s_n \n",
    "\\end{equation}"
   ]
  },
  {
   "cell_type": "markdown",
   "id": "6e948c19",
   "metadata": {},
   "source": [
    "### 1. A Linear System with One Solution\n",
    "\n",
    "The solution is unique (a single point)."
   ]
  },
  {
   "cell_type": "code",
   "execution_count": 16,
   "id": "89ef672c",
   "metadata": {},
   "outputs": [
    {
     "data": {
      "text/plain": [
       "2-element Vector{Float64}:\n",
       " 2.3333333333333335\n",
       " 1.3333333333333333"
      ]
     },
     "execution_count": 16,
     "metadata": {},
     "output_type": "execute_result"
    }
   ],
   "source": [
    "A = [1 -1;\n",
    "     2 1]\n",
    "\n",
    "b = [1;\n",
    "     6]\n",
    "\n",
    "x = A \\ b "
   ]
  },
  {
   "cell_type": "markdown",
   "id": "9bef2f3e",
   "metadata": {},
   "source": [
    "### 2. A Linear System with No Solutions\n",
    "\n",
    "One equation is contradictory to another equation in the system.  Geometrically, there is no intersection between the planes or lines / parallel planes or parallel lines."
   ]
  },
  {
   "cell_type": "code",
   "execution_count": 17,
   "id": "ef782db6",
   "metadata": {},
   "outputs": [
    {
     "ename": "LoadError",
     "evalue": "LinearAlgebra.SingularException(2)",
     "output_type": "error",
     "traceback": [
      "LinearAlgebra.SingularException(2)",
      "",
      "Stacktrace:",
      " [1] checknonsingular",
      "   @ ~/julia-1.7.3/share/julia/stdlib/v1.7/LinearAlgebra/src/factorization.jl:19 [inlined]",
      " [2] checknonsingular",
      "   @ ~/julia-1.7.3/share/julia/stdlib/v1.7/LinearAlgebra/src/factorization.jl:21 [inlined]",
      " [3] #lu!#146",
      "   @ ~/julia-1.7.3/share/julia/stdlib/v1.7/LinearAlgebra/src/lu.jl:82 [inlined]",
      " [4] #lu#153",
      "   @ ~/julia-1.7.3/share/julia/stdlib/v1.7/LinearAlgebra/src/lu.jl:279 [inlined]",
      " [5] lu (repeats 2 times)",
      "   @ ~/julia-1.7.3/share/julia/stdlib/v1.7/LinearAlgebra/src/lu.jl:278 [inlined]",
      " [6] \\(A::Matrix{Int64}, B::Vector{Int64})",
      "   @ LinearAlgebra ~/julia-1.7.3/share/julia/stdlib/v1.7/LinearAlgebra/src/generic.jl:1144",
      " [7] top-level scope",
      "   @ In[17]:7",
      " [8] eval",
      "   @ ./boot.jl:373 [inlined]",
      " [9] include_string(mapexpr::typeof(REPL.softscope), mod::Module, code::String, filename::String)",
      "   @ Base ./loading.jl:1196"
     ]
    }
   ],
   "source": [
    "A = [1 1;\n",
    "     2 2]\n",
    "\n",
    "b = [1;\n",
    "     6]\n",
    "\n",
    "x = A \\ b "
   ]
  },
  {
   "cell_type": "markdown",
   "id": "5aa9d87e",
   "metadata": {},
   "source": [
    "### 3. A Linear System with Infinitely Many Solutions\n",
    "\n",
    "The solutions can be expressed as parametric equations that can be assigned by any numerical values, thus having infinitely many solutions. "
   ]
  },
  {
   "cell_type": "code",
   "execution_count": 21,
   "id": "c5a955a7",
   "metadata": {},
   "outputs": [
    {
     "ename": "LoadError",
     "evalue": "LinearAlgebra.SingularException(2)",
     "output_type": "error",
     "traceback": [
      "LinearAlgebra.SingularException(2)",
      "",
      "Stacktrace:",
      " [1] checknonsingular",
      "   @ ~/julia-1.7.3/share/julia/stdlib/v1.7/LinearAlgebra/src/factorization.jl:19 [inlined]",
      " [2] checknonsingular",
      "   @ ~/julia-1.7.3/share/julia/stdlib/v1.7/LinearAlgebra/src/factorization.jl:21 [inlined]",
      " [3] #lu!#146",
      "   @ ~/julia-1.7.3/share/julia/stdlib/v1.7/LinearAlgebra/src/lu.jl:82 [inlined]",
      " [4] #lu#153",
      "   @ ~/julia-1.7.3/share/julia/stdlib/v1.7/LinearAlgebra/src/lu.jl:279 [inlined]",
      " [5] lu (repeats 2 times)",
      "   @ ~/julia-1.7.3/share/julia/stdlib/v1.7/LinearAlgebra/src/lu.jl:278 [inlined]",
      " [6] \\(A::Matrix{Int64}, B::Vector{Int64})",
      "   @ LinearAlgebra ~/julia-1.7.3/share/julia/stdlib/v1.7/LinearAlgebra/src/generic.jl:1144",
      " [7] top-level scope",
      "   @ In[21]:13",
      " [8] eval",
      "   @ ./boot.jl:373 [inlined]",
      " [9] include_string(mapexpr::typeof(REPL.softscope), mod::Module, code::String, filename::String)",
      "   @ Base ./loading.jl:1196"
     ]
    }
   ],
   "source": [
    "# The second and the third equations are multiples of the first equation\n",
    "# Just use the first equation and assign the solution with parametric equations of\n",
    "# z = s, y = r, and x =  5 + r - 2s\n",
    "\n",
    "A = [1 -1 2;\n",
    "     2 -2 4;\n",
    "     3 -3 6]\n",
    "\n",
    "b = [5;\n",
    "     10;\n",
    "     15]\n",
    "\n",
    "x = A \\ b "
   ]
  },
  {
   "cell_type": "markdown",
   "id": "5fba3479",
   "metadata": {},
   "source": [
    "## 1.2. Gaussian Elimination\n",
    "\n",
    "When considering methods for solving systems of linear equations, it is important to distinguish between large system that must be solved by computer and small systems that can be solved by hand.\n",
    "\n",
    "Large systems require special techniques to deal with issues of memory size, roundoff errors, solution time, etc.\n",
    "\n",
    "#### Reduced row echelon form' properties:\n",
    "1. The first nonzero number in the row is a `1` and is called the leading 1\n",
    "2. If there are any rows that consist entirely of zeros, then they are grouped together at the bottom of the matrix\n",
    "3. The leading 1 in the lower row occurs farther to the right than the leading 1 in the higher row\n",
    "4. Each column that contains a leading 1 has zeros everywhere else in that column\n",
    "\n",
    "A matrix with properties 1-3 is said to be in `row echelon form`, while a matrix with properties 1-4 is in `reduced row echelon form`.\n",
    "\n",
    "#### Homogeneous Linear Systems\n",
    "A system of linear equations is said to be homogeneous if the constant terms are all zero\n",
    "\\begin{equation}\n",
    "\t\ta_{11}x_{1} + a_{12}x_{2} + \\dots + a_{1n}x_{n} = 0 \\\\\n",
    "        a_{21}x_{1} + a_{22}x_{2} + \\dots + a_{2n}x_{n} = 0 \\\\\n",
    "        \\vdots  \\quad \\quad \\vdots \\quad \\quad \\vdots \\\\\n",
    "        a_{m1}x_{1} + a_{m2}x_{2} + \\dots + a_{mn}x_{n} = 0\n",
    "\\end{equation}\n",
    "\n",
    "The possible solutions for homogeneous systems:\n",
    "1. Trivial solution ($x_1=0, x_2=0, ...,x_n=0$)\n",
    "2. Infinitely many solutions"
   ]
  },
  {
   "cell_type": "code",
   "execution_count": null,
   "id": "1e313a08",
   "metadata": {},
   "outputs": [],
   "source": [
    "A = [1 3 -2 0 2 0;\n",
    "     2 6 -5 -2 4 -3;\n",
    "     0 0 5 10 0 15;\n",
    "     2 6 0 8 4 18]\n",
    "\n",
    "b = [0;\n",
    "     -1;\n",
    "     5;\n",
    "     6]"
   ]
  },
  {
   "cell_type": "code",
   "execution_count": 3,
   "id": "4f18e635",
   "metadata": {},
   "outputs": [
    {
     "data": {
      "text/plain": [
       "4-element Vector{Float64}:\n",
       "  3.144781144781145\n",
       "  2.6734006734006743\n",
       " -9.922558922558922\n",
       " 10.936026936026934"
      ]
     },
     "execution_count": 3,
     "metadata": {},
     "output_type": "execute_result"
    }
   ],
   "source": [
    "# solves Ax = b by (essentially) Gaussian elimination\n",
    "x = A \\ b "
   ]
  },
  {
   "cell_type": "code",
   "execution_count": 4,
   "id": "fb12f96f",
   "metadata": {},
   "outputs": [
    {
     "name": "stdout",
     "output_type": "stream",
     "text": [
      "  0.000036 seconds (3 allocations: 384 bytes)\n"
     ]
    }
   ],
   "source": [
    "@time A \\ b ;"
   ]
  },
  {
   "cell_type": "markdown",
   "id": "18c5d2ea",
   "metadata": {},
   "source": []
  },
  {
   "cell_type": "code",
   "execution_count": null,
   "id": "3b234f1b",
   "metadata": {},
   "outputs": [],
   "source": []
  },
  {
   "cell_type": "markdown",
   "id": "e0f4c465",
   "metadata": {},
   "source": [
    "#### Reduced Row Echelon Form"
   ]
  },
  {
   "cell_type": "code",
   "execution_count": 2,
   "id": "6dea28de",
   "metadata": {},
   "outputs": [
    {
     "data": {
      "text/plain": [
       "3×6 Matrix{Rational{BigInt}}:\n",
       " 1//1  2//1  0//1  3//1  0//1  7//1\n",
       " 0//1  0//1  1//1  0//1  0//1  1//1\n",
       " 0//1  0//1  0//1  0//1  1//1  2//1"
      ]
     },
     "execution_count": 2,
     "metadata": {},
     "output_type": "execute_result"
    }
   ],
   "source": [
    "# rrefx -- reduced row echelon form\n",
    "using LinearAlgebraX\n",
    "A = [0 0 -2 0 7 12;\n",
    "     2 4 -10 6 12 28;\n",
    "     2 4 -5 6 -5 -1]\n",
    "rrefx(A)"
   ]
  },
  {
   "cell_type": "code",
   "execution_count": 7,
   "id": "dcba404f",
   "metadata": {},
   "outputs": [
    {
     "data": {
      "text/plain": [
       "3×6 Matrix{Float64}:\n",
       " 1.0  2.0  0.0  3.0  0.0  7.0\n",
       " 0.0  0.0  1.0  0.0  0.0  1.0\n",
       " 0.0  0.0  0.0  0.0  1.0  2.0"
      ]
     },
     "execution_count": 7,
     "metadata": {},
     "output_type": "execute_result"
    }
   ],
   "source": [
    "#Change result to Float\n",
    "Float64.(rrefx(A))"
   ]
  },
  {
   "cell_type": "code",
   "execution_count": 8,
   "id": "82e5f1b6",
   "metadata": {},
   "outputs": [
    {
     "data": {
      "text/plain": [
       "3×6 Matrix{Float64}:\n",
       " 1.0  2.0  0.0  3.0  0.0  7.0\n",
       " 0.0  0.0  1.0  0.0  0.0  1.0\n",
       " 0.0  0.0  0.0  0.0  1.0  2.0"
      ]
     },
     "execution_count": 8,
     "metadata": {},
     "output_type": "execute_result"
    }
   ],
   "source": [
    "#Change result to Float, alternative 2\n",
    "convert(Matrix{Float64}, rrefx(A))"
   ]
  },
  {
   "cell_type": "code",
   "execution_count": 3,
   "id": "336c8efe",
   "metadata": {},
   "outputs": [
    {
     "name": "stdout",
     "output_type": "stream",
     "text": [
      "  0.000171 seconds (899 allocations: 30.656 KiB)\n"
     ]
    }
   ],
   "source": [
    "@time rrefx(A) ;"
   ]
  },
  {
   "cell_type": "code",
   "execution_count": 5,
   "id": "181c0a7b",
   "metadata": {},
   "outputs": [
    {
     "data": {
      "text/plain": [
       "4×7 Matrix{Rational{BigInt}}:\n",
       " 1//1  3//1  0//1  4//1  2//1  0//1  0//1\n",
       " 0//1  0//1  1//1  2//1  0//1  0//1  0//1\n",
       " 0//1  0//1  0//1  0//1  0//1  1//1  0//1\n",
       " 0//1  0//1  0//1  0//1  0//1  0//1  0//1"
      ]
     },
     "execution_count": 5,
     "metadata": {},
     "output_type": "execute_result"
    }
   ],
   "source": [
    "B = [1 3 -2 0 2 0 0;\n",
    "     2 6 -5 -2 4 -3 0;\n",
    "     0 0 5 10 0 15 0;\n",
    "     2 6 0 8 4 18 0]\n",
    "rrefx(B)"
   ]
  },
  {
   "cell_type": "code",
   "execution_count": 6,
   "id": "41437d81",
   "metadata": {},
   "outputs": [
    {
     "name": "stdout",
     "output_type": "stream",
     "text": [
      "  0.000233 seconds (1.39 k allocations: 48.414 KiB)\n"
     ]
    }
   ],
   "source": [
    "@time rrefx(B) ;"
   ]
  },
  {
   "cell_type": "markdown",
   "id": "feaa5d68",
   "metadata": {},
   "source": [
    "#### Homogeneous Linear Systems"
   ]
  },
  {
   "cell_type": "code",
   "execution_count": 15,
   "id": "440ffa14",
   "metadata": {},
   "outputs": [
    {
     "data": {
      "text/plain": [
       "4×7 Matrix{Float64}:\n",
       " 1.0  3.0  0.0  4.0  2.0  0.0  0.0\n",
       " 0.0  0.0  1.0  2.0  0.0  0.0  0.0\n",
       " 0.0  0.0  0.0  0.0  0.0  1.0  0.0\n",
       " 0.0  0.0  0.0  0.0  0.0  0.0  0.0"
      ]
     },
     "execution_count": 15,
     "metadata": {},
     "output_type": "execute_result"
    }
   ],
   "source": [
    "using LinearAlgebraX\n",
    "A = [1 3 -2 0 2 0 0;\n",
    "     2 6 -5 -2 4 -3 0;\n",
    "     0 0 5 10 0 15 0;\n",
    "     2 6 0 8 4 18 0]\n",
    "Float64.(rrefx(A))"
   ]
  },
  {
   "cell_type": "markdown",
   "id": "f02af177",
   "metadata": {},
   "source": [
    "Solving for leading variables and assign the rest of variables as parameters to obtain the solution set parametrically.\n",
    "\n",
    "If a homogeneous linear system has `n` unknowns and if the reduced row echelon form of its augmented matrix has `r` nonzero rows, then the system has `n-r` free variables."
   ]
  },
  {
   "cell_type": "markdown",
   "id": "30e76aff",
   "metadata": {},
   "source": [
    "#### Gaussian Elimination Function\n",
    "\n",
    "I have found this code, and it is faster than the `A \\ b`\n",
    "\n",
    "Source: https://github.com/AugustoCL/gauss_jordan_elimination"
   ]
  },
  {
   "cell_type": "code",
   "execution_count": 23,
   "id": "00263a92",
   "metadata": {},
   "outputs": [
    {
     "data": {
      "text/plain": [
       "gauss_jordan (generic function with 1 method)"
      ]
     },
     "execution_count": 23,
     "metadata": {},
     "output_type": "execute_result"
    }
   ],
   "source": [
    "using LinearAlgebra, BenchmarkTools\n",
    "\n",
    "function swap_rows(i::T, nlinha::T) where {T<:Integer}\n",
    "    for n ∈ (i+1):nlinha        # iterate over lines above to check if could be swap\n",
    "        if A[n,i] ≠ 0.0         # condition to swap row\n",
    "            L = copy(A[i,:])    # copy line to swap\n",
    "            A[i,:] = A[n,:]     # swap occur\n",
    "            A[n,:] = L\n",
    "            break\n",
    "        end\n",
    "    end\n",
    "end\n",
    "\n",
    "function gauss_jordan(A::Matrix{T}) where {T<:Number}\n",
    "    \n",
    "    # convert to float to avoid InexactError: Int64()\n",
    "    (T <: Integer) && (A = convert.(Float64, A))\n",
    "\n",
    "    # check if matrix is singular\n",
    "    m, n = size(A)\n",
    "    if m == n\n",
    "        @assert det(A) ≠ 0.0 \"Must insert a non-singular matrix\"\n",
    "    else\n",
    "        @assert det(A[:,1:end-1]) ≠ 0.0 \"Must insert a non-singular matrix or a system matrix [A b]\"\n",
    "    end\n",
    "\n",
    "    for i ∈ axes(A, 1)\n",
    "        if A[i,i] == 0.0                            # check if need swap rows\n",
    "            swap_rows(i, m)\n",
    "        end\n",
    "\n",
    "        @. A[i,:] = A[i,:] / A[i,i]                 # divide pivot line by pivot element\n",
    "\n",
    "        for j ∈ axes(A, 1)                          # iterate each line for each pivot column, except pivot line\n",
    "            if j ≠ i                                # jump pivot line\n",
    "                @. A[j,:] = A[j,:] - A[i,:]*A[j,i]  # apply gauss jordan in each line\n",
    "            end\n",
    "        end\n",
    "    end\n",
    "\n",
    "    return A\n",
    "end"
   ]
  },
  {
   "cell_type": "code",
   "execution_count": 24,
   "id": "f5dc9754",
   "metadata": {},
   "outputs": [
    {
     "data": {
      "text/plain": [
       "3×4 Matrix{Float64}:\n",
       "   1.5   2.0  -4.0  3.0\n",
       "   3.0  -1.0  -6.0  8.0\n",
       " -10.0   2.3   4.0  5.0"
      ]
     },
     "execution_count": 24,
     "metadata": {},
     "output_type": "execute_result"
    }
   ],
   "source": [
    "A = [1.5 2 -4 3; \n",
    "     3 -1 -6 8; \n",
    "     -10 2.3 4 5]"
   ]
  },
  {
   "cell_type": "code",
   "execution_count": 25,
   "id": "44e17f72",
   "metadata": {},
   "outputs": [
    {
     "name": "stdout",
     "output_type": "stream",
     "text": [
      "  1.015294 seconds (86.38 k allocations: 4.144 MiB, 99.99% compilation time)\n"
     ]
    },
    {
     "data": {
      "text/plain": [
       "3×4 Matrix{Float64}:\n",
       "  1.0   0.0  0.0  -1.52884\n",
       " -0.0   1.0  0.0  -1.16166\n",
       " -0.0  -0.0  1.0  -1.90414"
      ]
     },
     "execution_count": 25,
     "metadata": {},
     "output_type": "execute_result"
    }
   ],
   "source": [
    "@time gauss_jordan(A)"
   ]
  },
  {
   "cell_type": "code",
   "execution_count": 26,
   "id": "8209a0b2",
   "metadata": {},
   "outputs": [
    {
     "name": "stdout",
     "output_type": "stream",
     "text": [
      "  4.707 μs (17 allocations: 1.61 KiB)\n"
     ]
    },
    {
     "data": {
      "text/plain": [
       "3×4 Matrix{Float64}:\n",
       " 1.0  0.0  0.0  -1.52884\n",
       " 0.0  1.0  0.0  -1.16166\n",
       " 0.0  0.0  1.0  -1.90414"
      ]
     },
     "execution_count": 26,
     "metadata": {},
     "output_type": "execute_result"
    }
   ],
   "source": [
    "@btime gauss_jordan(A)"
   ]
  },
  {
   "cell_type": "code",
   "execution_count": 27,
   "id": "810c0c5e",
   "metadata": {},
   "outputs": [
    {
     "data": {
      "text/plain": [
       "3×3 Matrix{Float64}:\n",
       "   1.5   2.0  -4.0\n",
       "   3.0  -1.0  -6.0\n",
       " -10.0   2.3   4.0"
      ]
     },
     "execution_count": 27,
     "metadata": {},
     "output_type": "execute_result"
    }
   ],
   "source": [
    "A = [1.5 2 -4; \n",
    "     3 -1 -6; \n",
    "     -10 2.3 4]"
   ]
  },
  {
   "cell_type": "code",
   "execution_count": 28,
   "id": "688167a6",
   "metadata": {},
   "outputs": [
    {
     "data": {
      "text/plain": [
       "3-element Vector{Int64}:\n",
       " 3\n",
       " 8\n",
       " 5"
      ]
     },
     "execution_count": 28,
     "metadata": {},
     "output_type": "execute_result"
    }
   ],
   "source": [
    "b = [3; 8; 5]"
   ]
  },
  {
   "cell_type": "code",
   "execution_count": 29,
   "id": "b4418978",
   "metadata": {},
   "outputs": [
    {
     "name": "stdout",
     "output_type": "stream",
     "text": [
      "  0.000043 seconds (3 allocations: 288 bytes)\n"
     ]
    },
    {
     "data": {
      "text/plain": [
       "3-element Vector{Float64}:\n",
       " -1.5288383428107228\n",
       " -1.1616571892770102\n",
       " -1.9041429731925263"
      ]
     },
     "execution_count": 29,
     "metadata": {},
     "output_type": "execute_result"
    }
   ],
   "source": [
    "@time A \\ b"
   ]
  },
  {
   "cell_type": "code",
   "execution_count": 30,
   "id": "a7d95971",
   "metadata": {},
   "outputs": [
    {
     "name": "stdout",
     "output_type": "stream",
     "text": [
      "  3.765 μs (3 allocations: 288 bytes)\n"
     ]
    },
    {
     "data": {
      "text/plain": [
       "3-element Vector{Float64}:\n",
       " -1.5288383428107228\n",
       " -1.1616571892770102\n",
       " -1.9041429731925263"
      ]
     },
     "execution_count": 30,
     "metadata": {},
     "output_type": "execute_result"
    }
   ],
   "source": [
    "@btime A \\ b"
   ]
  },
  {
   "cell_type": "markdown",
   "id": "efedd933",
   "metadata": {},
   "source": [
    "#### Gaussian Elimination with \"LU\" Factorization"
   ]
  },
  {
   "cell_type": "code",
   "execution_count": 1,
   "id": "23d8264f",
   "metadata": {},
   "outputs": [
    {
     "data": {
      "text/plain": [
       "lu_nopivot (generic function with 1 method)"
      ]
     },
     "execution_count": 1,
     "metadata": {},
     "output_type": "execute_result"
    }
   ],
   "source": [
    "# Gaussian elimination is really “LU” factorization, performed by the built-in function lu\n",
    "# LU factorization (Gaussian elimination) of the augumented matrix [A b],\n",
    "# passing the undocumented option Val{false} to prevent row re-ordering\n",
    "\n",
    "using LinearAlgebra\n",
    "\n",
    "# Make sure that U[k,:] is treated as a row vector for your rank-1 update\n",
    "function lu_nopivot(A)\n",
    "    n = size(A, 1)\n",
    "    L = Matrix{eltype(A)}(I, n, n)\n",
    "    U = copy(A)\n",
    "    for k = 1:n\n",
    "        L[k+1:n,k] = U[k+1:n,k] / U[k,k]\n",
    "        U[k+1:n,:] = U[k+1:n,:] - L[k+1:n,k]*transpose(U[k,:])\n",
    "    end\n",
    "    return L, U\n",
    "end"
   ]
  },
  {
   "cell_type": "code",
   "execution_count": 3,
   "id": "9614b0e2",
   "metadata": {},
   "outputs": [
    {
     "data": {
      "text/plain": [
       "3×3 Matrix{Float64}:\n",
       "   1.5   2.0  -4.0\n",
       "   3.0  -1.0  -6.0\n",
       " -10.0   2.3   4.0"
      ]
     },
     "execution_count": 3,
     "metadata": {},
     "output_type": "execute_result"
    }
   ],
   "source": [
    "A = [1.5 2 -4; \n",
    "     3 -1 -6; \n",
    "     -10 2.3 4]"
   ]
  },
  {
   "cell_type": "code",
   "execution_count": 4,
   "id": "6ea76116",
   "metadata": {},
   "outputs": [],
   "source": [
    "L, U = lu_nopivot(A);"
   ]
  },
  {
   "cell_type": "code",
   "execution_count": 5,
   "id": "818dddd4",
   "metadata": {},
   "outputs": [
    {
     "data": {
      "text/plain": [
       "3×3 Matrix{Float64}:\n",
       "  1.0       0.0      0.0\n",
       "  2.0       1.0      0.0\n",
       " -6.66667  -3.12667  1.0"
      ]
     },
     "execution_count": 5,
     "metadata": {},
     "output_type": "execute_result"
    }
   ],
   "source": [
    "# type L or U\n",
    "L"
   ]
  },
  {
   "cell_type": "code",
   "execution_count": 6,
   "id": "41e1373c",
   "metadata": {},
   "outputs": [
    {
     "data": {
      "text/plain": [
       "3×3 Matrix{Float64}:\n",
       " 1.5   2.0   -4.0\n",
       " 0.0  -5.0    2.0\n",
       " 0.0   0.0  -16.4133"
      ]
     },
     "execution_count": 6,
     "metadata": {},
     "output_type": "execute_result"
    }
   ],
   "source": [
    "U"
   ]
  },
  {
   "cell_type": "markdown",
   "id": "b499f82c",
   "metadata": {},
   "source": [
    "### Visualize Gaussian-Elimination"
   ]
  },
  {
   "cell_type": "code",
   "execution_count": 7,
   "id": "673c594c",
   "metadata": {},
   "outputs": [
    {
     "ename": "LoadError",
     "evalue": "syntax: extra token \"TwoMatrices\" after end of expression",
     "output_type": "error",
     "traceback": [
      "syntax: extra token \"TwoMatrices\" after end of expression",
      "",
      "Stacktrace:",
      " [1] top-level scope",
      "   @ In[7]:6",
      " [2] eval",
      "   @ ./boot.jl:373 [inlined]",
      " [3] include_string(mapexpr::typeof(REPL.softscope), mod::Module, code::String, filename::String)",
      "   @ Base ./loading.jl:1196"
     ]
    }
   ],
   "source": [
    "\"\"\"\n",
    "TwoMatrices is just a wrapper type around two matrices or vectors with the same\n",
    "number of rows, so that they can be displayed side-by-side with a title and\n",
    "and arrow pointing from left to right.\n",
    "\"\"\"\n",
    "type TwoMatrices\n",
    "    left::AbstractVecOrMat\n",
    "    right::AbstractVecOrMat\n",
    "    title::AbstractString\n",
    "    function TwoMatrices(left, right, title=\"\")\n",
    "        size(left,1) == size(right,1) || throw(DimensionMismatch(\"two matrices must have same # of columns and rows\"))\n",
    "        return new(left, right, title)\n",
    "    end\n",
    "end\n",
    "\n",
    "function Base.show(io::IO, ::MIME\"text/plain\", x::TwoMatrices)\n",
    "isempty(x.title) || println(io, x.title)\n",
    "m = size(x.left, 1)\n",
    "s = [Text(\" \"^10) for i in 1:m]\n",
    "s[(m+1)÷2] = Text(\" ---> \")\n",
    "Base.showarray(io, [x.left s x.right], false; header=false)\n",
    "end"
   ]
  },
  {
   "cell_type": "code",
   "execution_count": 8,
   "id": "bd60037d",
   "metadata": {},
   "outputs": [
    {
     "data": {
      "text/plain": [
       "naive_gauss (generic function with 2 methods)"
      ]
     },
     "execution_count": 8,
     "metadata": {},
     "output_type": "execute_result"
    }
   ],
   "source": [
    "\"\"\"\n",
    "naive_gauss(A, [step])\n",
    "\n",
    "Given a matrix ‘A‘, performs Gaussian elimination to convert\n",
    "‘A‘ into an upper-triangular matrix ‘U‘.\n",
    "\n",
    "This implementation is \"naive\" because it *never re-orders the rows*.\n",
    "(It will obviously fail if a zero pivot is encountered.)\n",
    "\n",
    "If the optional ‘step‘ argument is supplied, only performs ‘step‘\n",
    "steps of Gaussian elimination.\n",
    "\n",
    "Returns ‘(U, row, col, factor)‘, where ‘row‘ and ‘col‘ are the\n",
    "row and column of the last step performed, while ‘factor‘\n",
    "is the last factor multiplying the pivot row.\n",
    "\"\"\"\n",
    "\n",
    "function naive_gauss(A, step=typemax(Int))\n",
    "        m = size(A,1) # number of rows\n",
    "        factor = A[1,1]/A[1,1]\n",
    "        step ≤ 0 && return (A, 1, 1, factor)\n",
    "        U = copy!(similar(A, typeof(factor)), A)\n",
    "        for j = 1:m # loop over m columns\n",
    "            for i = j+1:m # loop over rows below the pivot row j\n",
    "                # subtract a multiple of the pivot row (j)\n",
    "                # from the current row (i) to cancel U[i,j] = U[U+1D62][U+2C7C]:\n",
    "                factor = -U[i,j]/U[j,j]\n",
    "                U[i,:] = U[i,:] + U[j,:] * factor\n",
    "                step -= 1\n",
    "                step ≤ 0 && return (U, i, j, factor)\n",
    "        end\n",
    "    end\n",
    "    return U, m, m, factor\n",
    "end"
   ]
  },
  {
   "cell_type": "code",
   "execution_count": 9,
   "id": "ca9de4aa",
   "metadata": {},
   "outputs": [
    {
     "data": {
      "application/vnd.webio.node+json": {
       "children": [],
       "instanceArgs": {
        "namespace": "html",
        "tag": "div"
       },
       "nodeType": "DOM",
       "props": {},
       "type": "node"
      },
      "text/html": [
       "<div style=\"padding: 1em; background-color: #f8d6da; border: 1px solid #f5c6cb; font-weight: bold;\">\n",
       "<p>The WebIO Jupyter extension was not detected. See the\n",
       "<a href=\"https://juliagizmos.github.io/WebIO.jl/latest/providers/ijulia/\" target=\"_blank\">\n",
       "    WebIO Jupyter integration documentation\n",
       "</a>\n",
       "for more information.\n",
       "</div>\n"
      ],
      "text/plain": [
       "WebIO._IJuliaInit()"
      ]
     },
     "metadata": {
      "application/vnd.webio.node+json": {
       "kernelId": "83c01312-59bb-4e48-96b2-624767259636"
      }
     },
     "output_type": "display_data"
    },
    {
     "data": {
      "text/plain": [
       "visualize_gauss (generic function with 1 method)"
      ]
     },
     "execution_count": 9,
     "metadata": {},
     "output_type": "execute_result"
    }
   ],
   "source": [
    "using Interact\n",
    "# For display, I only want to show 3 decimal places of floating-point values,\n",
    "# but I want to show integers and similar types exactly, so I define a little\n",
    "# function to do this rounding\n",
    "\n",
    "shorten(x::AbstractFloat) = round(x, 3)\n",
    "shorten(x) = x # leave non floating-point values as-is\n",
    "\n",
    "# create an interactive widget to visualize the Gaussian-elimination process for the matrix A.\n",
    "function visualize_gauss(A)\n",
    "    m = size(A, 1)\n",
    "    @manipulate for step in slider(1:(m*(m-1))÷2, value=1, label=\"gauss step\")\n",
    "        Uprev, = naive_gauss(A, step-1)\n",
    "        U, row, col, factor = naive_gauss(A, step)\n",
    "        pivot = U[col,col]\n",
    "        TwoMatrices(shorten.(Uprev), shorten.(U), \"Gaussian elimination for column $col with pivot\")\n",
    "    end\n",
    "end"
   ]
  },
  {
   "cell_type": "code",
   "execution_count": 22,
   "id": "1c59113a",
   "metadata": {
    "scrolled": true
   },
   "outputs": [
    {
     "ename": "LoadError",
     "evalue": "ArgumentError: range must be non-empty",
     "output_type": "error",
     "traceback": [
      "ArgumentError: range must be non-empty",
      "",
      "Stacktrace:",
      " [1] minimum",
      "   @ ./range.jl:779 [inlined]",
      " [2] extrema",
      "   @ ./range.jl:818 [inlined]",
      " [3] slider(theme::Interact.Bulma, vals::UnitRange{Int64}, formatted_vals::Vector{String}; className::String, readout::Bool, label::String, value::Int64, orientation::String, attributes::Dict{Any, Any}, kwargs::Base.Pairs{Symbol, Union{}, Tuple{}, NamedTuple{(), Tuple{}}})",
      "   @ InteractBase ~/.julia/packages/InteractBase/h8Fwe/src/slider.jl:49",
      " [4] slider(args::UnitRange{Int64}; kwargs::Base.Pairs{Symbol, Any, Tuple{Symbol, Symbol}, NamedTuple{(:value, :label), Tuple{Int64, String}}})",
      "   @ Widgets ~/.julia/packages/Widgets/RFAvq/src/defaults.jl:10",
      " [5] macro expansion",
      "   @ ~/.julia/packages/Widgets/RFAvq/src/manipulate.jl:97 [inlined]",
      " [6] visualize_gauss(A::Vector{Matrix{Float64}})",
      "   @ Main ./In[20]:12",
      " [7] top-level scope",
      "   @ In[22]:1",
      " [8] eval",
      "   @ ./boot.jl:373 [inlined]",
      " [9] include_string(mapexpr::typeof(REPL.softscope), mod::Module, code::String, filename::String)",
      "   @ Base ./loading.jl:1196"
     ]
    }
   ],
   "source": [
    "visualize_gauss([A])"
   ]
  },
  {
   "cell_type": "code",
   "execution_count": 10,
   "id": "172db8f2",
   "metadata": {},
   "outputs": [
    {
     "ename": "LoadError",
     "evalue": "MethodError: no method matching round(::Float64, ::Int64)\n\u001b[0mClosest candidates are:\n\u001b[0m  round(::T, \u001b[91m::RoundingMode{:NearestTiesUp}\u001b[39m) where T<:AbstractFloat at ~/julia-1.7.3/share/julia/base/floatfuncs.jl:220\n\u001b[0m  round(\u001b[91m::Type{T}\u001b[39m, ::Integer) where T<:Integer at ~/julia-1.7.3/share/julia/base/int.jl:645\n\u001b[0m  round(::AbstractFloat, \u001b[91m::RoundingMode{:NearestTiesAway}\u001b[39m) at ~/julia-1.7.3/share/julia/base/floatfuncs.jl:215\n\u001b[0m  ...",
     "output_type": "error",
     "traceback": [
      "MethodError: no method matching round(::Float64, ::Int64)\n\u001b[0mClosest candidates are:\n\u001b[0m  round(::T, \u001b[91m::RoundingMode{:NearestTiesUp}\u001b[39m) where T<:AbstractFloat at ~/julia-1.7.3/share/julia/base/floatfuncs.jl:220\n\u001b[0m  round(\u001b[91m::Type{T}\u001b[39m, ::Integer) where T<:Integer at ~/julia-1.7.3/share/julia/base/int.jl:645\n\u001b[0m  round(::AbstractFloat, \u001b[91m::RoundingMode{:NearestTiesAway}\u001b[39m) at ~/julia-1.7.3/share/julia/base/floatfuncs.jl:215\n\u001b[0m  ...",
      "",
      "Stacktrace:",
      "  [1] shorten(x::Float64)",
      "    @ Main ./In[9]:6",
      "  [2] _broadcast_getindex_evalf",
      "    @ ./broadcast.jl:670 [inlined]",
      "  [3] _broadcast_getindex",
      "    @ ./broadcast.jl:643 [inlined]",
      "  [4] getindex",
      "    @ ./broadcast.jl:597 [inlined]",
      "  [5] copy",
      "    @ ./broadcast.jl:899 [inlined]",
      "  [6] materialize",
      "    @ ./broadcast.jl:860 [inlined]",
      "  [7] (::var\"#1#2\"{Matrix{Int64}})(step::Int64)",
      "    @ Main ./In[9]:16",
      "  [8] map(::var\"#1#2\"{Matrix{Int64}}, ::Widget{:slider, Int64}; kwargs::Base.Pairs{Symbol, Union{}, Tuple{}, NamedTuple{(), Tuple{}}})",
      "    @ Observables ~/.julia/packages/Observables/OFj0u/src/Observables.jl:477",
      "  [9] map",
      "    @ ~/.julia/packages/Observables/OFj0u/src/Observables.jl:466 [inlined]",
      " [10] macro expansion",
      "    @ ~/.julia/packages/Widgets/RFAvq/src/manipulate.jl:25 [inlined]",
      " [11] visualize_gauss(A::Matrix{Int64})",
      "    @ Main ./In[9]:12",
      " [12] top-level scope",
      "    @ In[10]:1",
      " [13] eval",
      "    @ ./boot.jl:373 [inlined]",
      " [14] include_string(mapexpr::typeof(REPL.softscope), mod::Module, code::String, filename::String)",
      "    @ Base ./loading.jl:1196"
     ]
    }
   ],
   "source": [
    "visualize_gauss(rand(-9:9,5,5))"
   ]
  },
  {
   "cell_type": "code",
   "execution_count": 11,
   "id": "fbf8cb8c",
   "metadata": {},
   "outputs": [
    {
     "data": {
      "text/plain": [
       "5×5 Matrix{Int64}:\n",
       " -3   5   5   3  -7\n",
       "  3  -5   8  -8  -6\n",
       "  8   2   8   2  -8\n",
       " -6  -2   6   4  -8\n",
       " -8   4  -6  -1   8"
      ]
     },
     "execution_count": 11,
     "metadata": {},
     "output_type": "execute_result"
    }
   ],
   "source": [
    "Abad = [-3 5 5 3 -7;\n",
    "        3 -5 8 -8 -6;\n",
    "        8 2 8 2 -8;\n",
    "        -6 -2 6 4 -8;\n",
    "        -8 4 -6 -1 8;]"
   ]
  },
  {
   "cell_type": "code",
   "execution_count": 12,
   "id": "690d6a77",
   "metadata": {},
   "outputs": [
    {
     "ename": "LoadError",
     "evalue": "MethodError: no method matching round(::Float64, ::Int64)\n\u001b[0mClosest candidates are:\n\u001b[0m  round(::T, \u001b[91m::RoundingMode{:NearestTiesUp}\u001b[39m) where T<:AbstractFloat at ~/julia-1.7.3/share/julia/base/floatfuncs.jl:220\n\u001b[0m  round(\u001b[91m::Type{T}\u001b[39m, ::Integer) where T<:Integer at ~/julia-1.7.3/share/julia/base/int.jl:645\n\u001b[0m  round(::AbstractFloat, \u001b[91m::RoundingMode{:NearestTiesAway}\u001b[39m) at ~/julia-1.7.3/share/julia/base/floatfuncs.jl:215\n\u001b[0m  ...",
     "output_type": "error",
     "traceback": [
      "MethodError: no method matching round(::Float64, ::Int64)\n\u001b[0mClosest candidates are:\n\u001b[0m  round(::T, \u001b[91m::RoundingMode{:NearestTiesUp}\u001b[39m) where T<:AbstractFloat at ~/julia-1.7.3/share/julia/base/floatfuncs.jl:220\n\u001b[0m  round(\u001b[91m::Type{T}\u001b[39m, ::Integer) where T<:Integer at ~/julia-1.7.3/share/julia/base/int.jl:645\n\u001b[0m  round(::AbstractFloat, \u001b[91m::RoundingMode{:NearestTiesAway}\u001b[39m) at ~/julia-1.7.3/share/julia/base/floatfuncs.jl:215\n\u001b[0m  ...",
      "",
      "Stacktrace:",
      "  [1] shorten(x::Float64)",
      "    @ Main ./In[9]:6",
      "  [2] _broadcast_getindex_evalf",
      "    @ ./broadcast.jl:670 [inlined]",
      "  [3] _broadcast_getindex",
      "    @ ./broadcast.jl:643 [inlined]",
      "  [4] getindex",
      "    @ ./broadcast.jl:597 [inlined]",
      "  [5] copy",
      "    @ ./broadcast.jl:899 [inlined]",
      "  [6] materialize",
      "    @ ./broadcast.jl:860 [inlined]",
      "  [7] (::var\"#1#2\"{Matrix{Int64}})(step::Int64)",
      "    @ Main ./In[9]:16",
      "  [8] map(::var\"#1#2\"{Matrix{Int64}}, ::Widget{:slider, Int64}; kwargs::Base.Pairs{Symbol, Union{}, Tuple{}, NamedTuple{(), Tuple{}}})",
      "    @ Observables ~/.julia/packages/Observables/OFj0u/src/Observables.jl:477",
      "  [9] map",
      "    @ ~/.julia/packages/Observables/OFj0u/src/Observables.jl:466 [inlined]",
      " [10] macro expansion",
      "    @ ~/.julia/packages/Widgets/RFAvq/src/manipulate.jl:25 [inlined]",
      " [11] visualize_gauss(A::Matrix{Int64})",
      "    @ Main ./In[9]:12",
      " [12] top-level scope",
      "    @ In[12]:1",
      " [13] eval",
      "    @ ./boot.jl:373 [inlined]",
      " [14] include_string(mapexpr::typeof(REPL.softscope), mod::Module, code::String, filename::String)",
      "    @ Base ./loading.jl:1196"
     ]
    }
   ],
   "source": [
    "visualize_gauss(Abad)"
   ]
  },
  {
   "cell_type": "code",
   "execution_count": 25,
   "id": "91d0f615",
   "metadata": {},
   "outputs": [
    {
     "data": {
      "text/plain": [
       "19211.999999999996"
      ]
     },
     "execution_count": 25,
     "metadata": {},
     "output_type": "execute_result"
    }
   ],
   "source": [
    "det(Abad)"
   ]
  },
  {
   "cell_type": "code",
   "execution_count": 26,
   "id": "ed617b86",
   "metadata": {},
   "outputs": [
    {
     "data": {
      "application/vnd.webio.node+json": {
       "children": [
        {
         "children": [
          {
           "children": [
            {
             "children": [
              {
               "children": [
                {
                 "children": [
                  "gauss step"
                 ],
                 "instanceArgs": {
                  "namespace": "html",
                  "tag": "label"
                 },
                 "nodeType": "DOM",
                 "props": {
                  "className": "interact ",
                  "style": {
                   "padding": "5px 10px 0px 10px"
                  }
                 },
                 "type": "node"
                }
               ],
               "instanceArgs": {
                "namespace": "html",
                "tag": "div"
               },
               "nodeType": "DOM",
               "props": {
                "className": "interact-flex-row-left"
               },
               "type": "node"
              },
              {
               "children": [
                {
                 "children": [],
                 "instanceArgs": {
                  "namespace": "html",
                  "tag": "input"
                 },
                 "nodeType": "DOM",
                 "props": {
                  "attributes": {
                   "data-bind": "numericValue: index, valueUpdate: 'input', event: {change: function (){this.changes(this.changes()+1)}}",
                   "orient": "horizontal",
                   "type": "range"
                  },
                  "className": "slider slider is-fullwidth",
                  "max": 100,
                  "min": 1,
                  "step": 1,
                  "style": {}
                 },
                 "type": "node"
                }
               ],
               "instanceArgs": {
                "namespace": "html",
                "tag": "div"
               },
               "nodeType": "DOM",
               "props": {
                "className": "interact-flex-row-center"
               },
               "type": "node"
              },
              {
               "children": [
                {
                 "children": [],
                 "instanceArgs": {
                  "namespace": "html",
                  "tag": "p"
                 },
                 "nodeType": "DOM",
                 "props": {
                  "attributes": {
                   "data-bind": "text: formatted_val"
                  }
                 },
                 "type": "node"
                }
               ],
               "instanceArgs": {
                "namespace": "html",
                "tag": "div"
               },
               "nodeType": "DOM",
               "props": {
                "className": "interact-flex-row-right"
               },
               "type": "node"
              }
             ],
             "instanceArgs": {
              "namespace": "html",
              "tag": "div"
             },
             "nodeType": "DOM",
             "props": {
              "className": "interact-flex-row interact-widget"
             },
             "type": "node"
            }
           ],
           "instanceArgs": {
            "handlers": {
             "changes": [
              "(function (val){return (val!=this.model[\"changes\"]()) ? (this.valueFromJulia[\"changes\"]=true, this.model[\"changes\"](val)) : undefined})"
             ],
             "index": [
              "(function (val){return (val!=this.model[\"index\"]()) ? (this.valueFromJulia[\"index\"]=true, this.model[\"index\"](val)) : undefined})"
             ]
            },
            "id": "12184961378872021038",
            "imports": {
             "data": [
              {
               "name": "knockout",
               "type": "js",
               "url": "/assetserver/409cb8170bee23eef410c05eb2a98dbc817b58ab-knockout.js"
              },
              {
               "name": "knockout_punches",
               "type": "js",
               "url": "/assetserver/22cdd7eedd5d0872ed6b916924f27ed748ebd2ac-knockout_punches.js"
              },
              {
               "name": null,
               "type": "js",
               "url": "/assetserver/6f1a4d7a0e11ae9d02a191a4d7a10b5606c87f14-all.js"
              },
              {
               "name": null,
               "type": "css",
               "url": "/assetserver/5b626a443f6c49b7a737bc3f961b28e68ca2f4ff-style.css"
              },
              {
               "name": null,
               "type": "css",
               "url": "/assetserver/3bc9848b4ac6ded25cc8dc5bae0eef782deadc9a-bulma_confined.min.css"
              }
             ],
             "type": "async_block"
            },
            "mount_callbacks": [
             "function () {\n    var handler = (function (ko, koPunches) {\n    ko.punches.enableAll();\n    ko.bindingHandlers.numericValue = {\n        init: function(element, valueAccessor, allBindings, data, context) {\n            var stringified = ko.observable(ko.unwrap(valueAccessor()));\n            stringified.subscribe(function(value) {\n                var val = parseFloat(value);\n                if (!isNaN(val)) {\n                    valueAccessor()(val);\n                }\n            });\n            valueAccessor().subscribe(function(value) {\n                var str = JSON.stringify(value);\n                if ((str == \"0\") && ([\"-0\", \"-0.\"].indexOf(stringified()) >= 0))\n                     return;\n                 if ([\"null\", \"\"].indexOf(str) >= 0)\n                     return;\n                stringified(str);\n            });\n            ko.applyBindingsToNode(\n                element,\n                {\n                    value: stringified,\n                    valueUpdate: allBindings.get('valueUpdate'),\n                },\n                context,\n            );\n        }\n    };\n    var json_data = {\"formatted_vals\":[\"0\",\"50\",\"100\",\"150\",\"200\",\"250\",\"300\",\"350\",\"400\",\"450\",\"500\",\"550\",\"600\",\"650\",\"700\",\"750\",\"800\",\"850\",\"900\",\"950\",\"1000\",\"1050\",\"1100\",\"1150\",\"1200\",\"1250\",\"1300\",\"1350\",\"1400\",\"1450\",\"1500\",\"1550\",\"1600\",\"1650\",\"1700\",\"1750\",\"1800\",\"1850\",\"1900\",\"1950\",\"2000\",\"2050\",\"2100\",\"2150\",\"2200\",\"2250\",\"2300\",\"2350\",\"2400\",\"2450\",\"2500\",\"2550\",\"2600\",\"2650\",\"2700\",\"2750\",\"2800\",\"2850\",\"2900\",\"2950\",\"3000\",\"3050\",\"3100\",\"3150\",\"3200\",\"3250\",\"3300\",\"3350\",\"3400\",\"3450\",\"3500\",\"3550\",\"3600\",\"3650\",\"3700\",\"3750\",\"3800\",\"3850\",\"3900\",\"3950\",\"4000\",\"4050\",\"4100\",\"4150\",\"4200\",\"4250\",\"4300\",\"4350\",\"4400\",\"4450\",\"4500\",\"4550\",\"4600\",\"4650\",\"4700\",\"4750\",\"4800\",\"4850\",\"4900\",\"4950\"],\"changes\":WebIO.getval({\"name\":\"changes\",\"scope\":\"12184961378872021038\",\"id\":\"15797771484936482102\",\"type\":\"observable\"}),\"index\":WebIO.getval({\"name\":\"index\",\"scope\":\"12184961378872021038\",\"id\":\"15434617351931283241\",\"type\":\"observable\"})};\n    var self = this;\n    function AppViewModel() {\n        for (var key in json_data) {\n            var el = json_data[key];\n            this[key] = Array.isArray(el) ? ko.observableArray(el) : ko.observable(el);\n        }\n        \n        [this[\"formatted_val\"]=ko.computed(    function(){\n        return this.formatted_vals()[parseInt(this.index())-(1)];\n    }\n,this)]\n        [this[\"changes\"].subscribe((function (val){!(this.valueFromJulia[\"changes\"]) ? (WebIO.setval({\"name\":\"changes\",\"scope\":\"12184961378872021038\",\"id\":\"15797771484936482102\",\"type\":\"observable\"},val)) : undefined; return this.valueFromJulia[\"changes\"]=false}),self),this[\"index\"].subscribe((function (val){!(this.valueFromJulia[\"index\"]) ? (WebIO.setval({\"name\":\"index\",\"scope\":\"12184961378872021038\",\"id\":\"15434617351931283241\",\"type\":\"observable\"},val)) : undefined; return this.valueFromJulia[\"index\"]=false}),self)]\n        \n    }\n    self.model = new AppViewModel();\n    self.valueFromJulia = {};\n    for (var key in json_data) {\n        self.valueFromJulia[key] = false;\n    }\n    ko.applyBindings(self.model, self.dom);\n}\n);\n    (WebIO.importBlock({\"data\":[{\"name\":\"knockout\",\"type\":\"js\",\"url\":\"/assetserver/409cb8170bee23eef410c05eb2a98dbc817b58ab-knockout.js\"},{\"name\":\"knockout_punches\",\"type\":\"js\",\"url\":\"/assetserver/22cdd7eedd5d0872ed6b916924f27ed748ebd2ac-knockout_punches.js\"}],\"type\":\"async_block\"})).then((imports) => handler.apply(this, imports));\n}\n"
            ],
            "observables": {
             "changes": {
              "id": "15797771484936482102",
              "sync": false,
              "value": 0
             },
             "index": {
              "id": "15434617351931283241",
              "sync": true,
              "value": 2
             }
            },
            "systemjs_options": null
           },
           "nodeType": "Scope",
           "props": {},
           "type": "node"
          }
         ],
         "instanceArgs": {
          "namespace": "html",
          "tag": "div"
         },
         "nodeType": "DOM",
         "props": {
          "className": "field interact-widget"
         },
         "type": "node"
        },
        {
         "children": [
          {
           "children": [],
           "instanceArgs": {
            "id": "2392344269330024306",
            "name": "obs-node"
           },
           "nodeType": "ObservableNode",
           "props": {},
           "type": "node"
          }
         ],
         "instanceArgs": {
          "handlers": {},
          "id": "2804491848086702414",
          "imports": {
           "data": [],
           "type": "async_block"
          },
          "mount_callbacks": [],
          "observables": {
           "obs-node": {
            "id": "2392344269330024306",
            "sync": false,
            "value": {
             "children": [
              {
               "children": [],
               "instanceArgs": {
                "namespace": "html",
                "tag": "div"
               },
               "nodeType": "DOM",
               "props": {
                "setInnerHtml": "<img src='data:image/png;base64,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'></img>"
               },
               "type": "node"
              }
             ],
             "instanceArgs": {
              "namespace": "html",
              "tag": "div"
             },
             "nodeType": "DOM",
             "props": {
              "className": "interact-flex-row interact-widget"
             },
             "type": "node"
            }
           }
          },
          "systemjs_options": null
         },
         "nodeType": "Scope",
         "props": {},
         "type": "node"
        }
       ],
       "instanceArgs": {
        "namespace": "html",
        "tag": "div"
       },
       "nodeType": "DOM",
       "props": {},
       "type": "node"
      },
      "text/html": [
       "<div\n",
       "    class=\"webio-mountpoint\"\n",
       "    data-webio-mountpoint=\"12105483200541595585\"\n",
       ">\n",
       "    <script>\n",
       "    (function(){\n",
       "    // Some integrations (namely, IJulia/Jupyter) use an alternate render pathway than\n",
       "    // just putting the html on the page. If WebIO isn't defined, then it's pretty likely\n",
       "    // that we're in one of those situations and the integration just isn't installed\n",
       "    // correctly.\n",
       "    if (typeof window.WebIO === \"undefined\") {\n",
       "        document\n",
       "            .querySelector('[data-webio-mountpoint=\"12105483200541595585\"]')\n",
       "            .innerHTML = (\n",
       "                '<div style=\"padding: 1em; background-color: #f8d6da; border: 1px solid #f5c6cb; font-weight: bold;\">' +\n",
       "                '<p><strong>WebIO not detected.</strong></p>' +\n",
       "                '<p>Please read ' +\n",
       "                '<a href=\"https://juliagizmos.github.io/WebIO.jl/latest/troubleshooting/not-detected/\" target=\"_blank\">the troubleshooting guide</a> ' +\n",
       "                'for more information on how to resolve this issue.</p>' +\n",
       "                '<p><a href=\"https://juliagizmos.github.io/WebIO.jl/latest/troubleshooting/not-detected/\" target=\"_blank\">https://juliagizmos.github.io/WebIO.jl/latest/troubleshooting/not-detected/</a></p>' +\n",
       "                '</div>'\n",
       "            );\n",
       "        return;\n",
       "    }\n",
       "    WebIO.mount(\n",
       "        document.querySelector('[data-webio-mountpoint=\"12105483200541595585\"]'),\n",
       "        {\"props\":{},\"nodeType\":\"DOM\",\"type\":\"node\",\"instanceArgs\":{\"namespace\":\"html\",\"tag\":\"div\"},\"children\":[{\"props\":{\"className\":\"field interact-widget\"},\"nodeType\":\"DOM\",\"type\":\"node\",\"instanceArgs\":{\"namespace\":\"html\",\"tag\":\"div\"},\"children\":[{\"props\":{},\"nodeType\":\"Scope\",\"type\":\"node\",\"instanceArgs\":{\"imports\":{\"data\":[{\"name\":\"knockout\",\"type\":\"js\",\"url\":\"\\/assetserver\\/409cb8170bee23eef410c05eb2a98dbc817b58ab-knockout.js\"},{\"name\":\"knockout_punches\",\"type\":\"js\",\"url\":\"\\/assetserver\\/22cdd7eedd5d0872ed6b916924f27ed748ebd2ac-knockout_punches.js\"},{\"name\":null,\"type\":\"js\",\"url\":\"\\/assetserver\\/6f1a4d7a0e11ae9d02a191a4d7a10b5606c87f14-all.js\"},{\"name\":null,\"type\":\"css\",\"url\":\"\\/assetserver\\/5b626a443f6c49b7a737bc3f961b28e68ca2f4ff-style.css\"},{\"name\":null,\"type\":\"css\",\"url\":\"\\/assetserver\\/3bc9848b4ac6ded25cc8dc5bae0eef782deadc9a-bulma_confined.min.css\"}],\"type\":\"async_block\"},\"id\":\"12184961378872021038\",\"handlers\":{\"changes\":[\"(function (val){return (val!=this.model[\\\"changes\\\"]()) ? (this.valueFromJulia[\\\"changes\\\"]=true, this.model[\\\"changes\\\"](val)) : undefined})\"],\"index\":[\"(function (val){return (val!=this.model[\\\"index\\\"]()) ? (this.valueFromJulia[\\\"index\\\"]=true, this.model[\\\"index\\\"](val)) : undefined})\"]},\"systemjs_options\":null,\"mount_callbacks\":[\"function () {\\n    var handler = (function (ko, koPunches) {\\n    ko.punches.enableAll();\\n    ko.bindingHandlers.numericValue = {\\n        init: function(element, valueAccessor, allBindings, data, context) {\\n            var stringified = ko.observable(ko.unwrap(valueAccessor()));\\n            stringified.subscribe(function(value) {\\n                var val = parseFloat(value);\\n                if (!isNaN(val)) {\\n                    valueAccessor()(val);\\n                }\\n            });\\n            valueAccessor().subscribe(function(value) {\\n                var str = JSON.stringify(value);\\n                if ((str == \\\"0\\\") && ([\\\"-0\\\", \\\"-0.\\\"].indexOf(stringified()) >= 0))\\n                     return;\\n                 if ([\\\"null\\\", \\\"\\\"].indexOf(str) >= 0)\\n                     return;\\n                stringified(str);\\n            });\\n            ko.applyBindingsToNode(\\n                element,\\n                {\\n                    value: stringified,\\n                    valueUpdate: allBindings.get('valueUpdate'),\\n                },\\n                context,\\n            );\\n        }\\n    };\\n    var json_data = {\\\"formatted_vals\\\":[\\\"0\\\",\\\"50\\\",\\\"100\\\",\\\"150\\\",\\\"200\\\",\\\"250\\\",\\\"300\\\",\\\"350\\\",\\\"400\\\",\\\"450\\\",\\\"500\\\",\\\"550\\\",\\\"600\\\",\\\"650\\\",\\\"700\\\",\\\"750\\\",\\\"800\\\",\\\"850\\\",\\\"900\\\",\\\"950\\\",\\\"1000\\\",\\\"1050\\\",\\\"1100\\\",\\\"1150\\\",\\\"1200\\\",\\\"1250\\\",\\\"1300\\\",\\\"1350\\\",\\\"1400\\\",\\\"1450\\\",\\\"1500\\\",\\\"1550\\\",\\\"1600\\\",\\\"1650\\\",\\\"1700\\\",\\\"1750\\\",\\\"1800\\\",\\\"1850\\\",\\\"1900\\\",\\\"1950\\\",\\\"2000\\\",\\\"2050\\\",\\\"2100\\\",\\\"2150\\\",\\\"2200\\\",\\\"2250\\\",\\\"2300\\\",\\\"2350\\\",\\\"2400\\\",\\\"2450\\\",\\\"2500\\\",\\\"2550\\\",\\\"2600\\\",\\\"2650\\\",\\\"2700\\\",\\\"2750\\\",\\\"2800\\\",\\\"2850\\\",\\\"2900\\\",\\\"2950\\\",\\\"3000\\\",\\\"3050\\\",\\\"3100\\\",\\\"3150\\\",\\\"3200\\\",\\\"3250\\\",\\\"3300\\\",\\\"3350\\\",\\\"3400\\\",\\\"3450\\\",\\\"3500\\\",\\\"3550\\\",\\\"3600\\\",\\\"3650\\\",\\\"3700\\\",\\\"3750\\\",\\\"3800\\\",\\\"3850\\\",\\\"3900\\\",\\\"3950\\\",\\\"4000\\\",\\\"4050\\\",\\\"4100\\\",\\\"4150\\\",\\\"4200\\\",\\\"4250\\\",\\\"4300\\\",\\\"4350\\\",\\\"4400\\\",\\\"4450\\\",\\\"4500\\\",\\\"4550\\\",\\\"4600\\\",\\\"4650\\\",\\\"4700\\\",\\\"4750\\\",\\\"4800\\\",\\\"4850\\\",\\\"4900\\\",\\\"4950\\\"],\\\"changes\\\":WebIO.getval({\\\"name\\\":\\\"changes\\\",\\\"scope\\\":\\\"12184961378872021038\\\",\\\"id\\\":\\\"15797771484936482102\\\",\\\"type\\\":\\\"observable\\\"}),\\\"index\\\":WebIO.getval({\\\"name\\\":\\\"index\\\",\\\"scope\\\":\\\"12184961378872021038\\\",\\\"id\\\":\\\"15434617351931283241\\\",\\\"type\\\":\\\"observable\\\"})};\\n    var self = this;\\n    function AppViewModel() {\\n        for (var key in json_data) {\\n            var el = json_data[key];\\n            this[key] = Array.isArray(el) ? ko.observableArray(el) : ko.observable(el);\\n        }\\n        \\n        [this[\\\"formatted_val\\\"]=ko.computed(    function(){\\n        return this.formatted_vals()[parseInt(this.index())-(1)];\\n    }\\n,this)]\\n        [this[\\\"changes\\\"].subscribe((function (val){!(this.valueFromJulia[\\\"changes\\\"]) ? (WebIO.setval({\\\"name\\\":\\\"changes\\\",\\\"scope\\\":\\\"12184961378872021038\\\",\\\"id\\\":\\\"15797771484936482102\\\",\\\"type\\\":\\\"observable\\\"},val)) : undefined; return this.valueFromJulia[\\\"changes\\\"]=false}),self),this[\\\"index\\\"].subscribe((function (val){!(this.valueFromJulia[\\\"index\\\"]) ? (WebIO.setval({\\\"name\\\":\\\"index\\\",\\\"scope\\\":\\\"12184961378872021038\\\",\\\"id\\\":\\\"15434617351931283241\\\",\\\"type\\\":\\\"observable\\\"},val)) : undefined; return this.valueFromJulia[\\\"index\\\"]=false}),self)]\\n        \\n    }\\n    self.model = new AppViewModel();\\n    self.valueFromJulia = {};\\n    for (var key in json_data) {\\n        self.valueFromJulia[key] = false;\\n    }\\n    ko.applyBindings(self.model, self.dom);\\n}\\n);\\n    (WebIO.importBlock({\\\"data\\\":[{\\\"name\\\":\\\"knockout\\\",\\\"type\\\":\\\"js\\\",\\\"url\\\":\\\"\\/assetserver\\/409cb8170bee23eef410c05eb2a98dbc817b58ab-knockout.js\\\"},{\\\"name\\\":\\\"knockout_punches\\\",\\\"type\\\":\\\"js\\\",\\\"url\\\":\\\"\\/assetserver\\/22cdd7eedd5d0872ed6b916924f27ed748ebd2ac-knockout_punches.js\\\"}],\\\"type\\\":\\\"async_block\\\"})).then((imports) => handler.apply(this, imports));\\n}\\n\"],\"observables\":{\"changes\":{\"sync\":false,\"id\":\"15797771484936482102\",\"value\":0},\"index\":{\"sync\":true,\"id\":\"15434617351931283241\",\"value\":2}}},\"children\":[{\"props\":{\"className\":\"interact-flex-row interact-widget\"},\"nodeType\":\"DOM\",\"type\":\"node\",\"instanceArgs\":{\"namespace\":\"html\",\"tag\":\"div\"},\"children\":[{\"props\":{\"className\":\"interact-flex-row-left\"},\"nodeType\":\"DOM\",\"type\":\"node\",\"instanceArgs\":{\"namespace\":\"html\",\"tag\":\"div\"},\"children\":[{\"props\":{\"className\":\"interact \",\"style\":{\"padding\":\"5px 10px 0px 10px\"}},\"nodeType\":\"DOM\",\"type\":\"node\",\"instanceArgs\":{\"namespace\":\"html\",\"tag\":\"label\"},\"children\":[\"gauss step\"]}]},{\"props\":{\"className\":\"interact-flex-row-center\"},\"nodeType\":\"DOM\",\"type\":\"node\",\"instanceArgs\":{\"namespace\":\"html\",\"tag\":\"div\"},\"children\":[{\"props\":{\"max\":100,\"min\":1,\"attributes\":{\"type\":\"range\",\"data-bind\":\"numericValue: index, valueUpdate: 'input', event: {change: function (){this.changes(this.changes()+1)}}\",\"orient\":\"horizontal\"},\"step\":1,\"className\":\"slider slider is-fullwidth\",\"style\":{}},\"nodeType\":\"DOM\",\"type\":\"node\",\"instanceArgs\":{\"namespace\":\"html\",\"tag\":\"input\"},\"children\":[]}]},{\"props\":{\"className\":\"interact-flex-row-right\"},\"nodeType\":\"DOM\",\"type\":\"node\",\"instanceArgs\":{\"namespace\":\"html\",\"tag\":\"div\"},\"children\":[{\"props\":{\"attributes\":{\"data-bind\":\"text: formatted_val\"}},\"nodeType\":\"DOM\",\"type\":\"node\",\"instanceArgs\":{\"namespace\":\"html\",\"tag\":\"p\"},\"children\":[]}]}]}]}]},{\"props\":{},\"nodeType\":\"Scope\",\"type\":\"node\",\"instanceArgs\":{\"imports\":{\"data\":[],\"type\":\"async_block\"},\"id\":\"15784947459292391381\",\"handlers\":{},\"systemjs_options\":null,\"mount_callbacks\":[],\"observables\":{\"obs-node\":{\"sync\":false,\"id\":\"11215167897022981809\",\"value\":{\"props\":{\"className\":\"interact-flex-row interact-widget\"},\"nodeType\":\"DOM\",\"type\":\"node\",\"instanceArgs\":{\"namespace\":\"html\",\"tag\":\"div\"},\"children\":[{\"props\":{\"setInnerHtml\":\"<img src='data:image\\/png;base64,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'><\\/img>\"},\"nodeType\":\"DOM\",\"type\":\"node\",\"instanceArgs\":{\"namespace\":\"html\",\"tag\":\"div\"},\"children\":[]}]}}}},\"children\":[{\"props\":{},\"nodeType\":\"ObservableNode\",\"type\":\"node\",\"instanceArgs\":{\"id\":\"11215167897022981809\",\"name\":\"obs-node\"},\"children\":[]}]}]},\n",
       "        window,\n",
       "    );\n",
       "    })()\n",
       "    </script>\n",
       "</div>\n"
      ],
      "text/plain": [
       "Node{WebIO.DOM}(WebIO.DOM(:html, :div), Any[Node{WebIO.DOM}(WebIO.DOM(:html, :div), Any[Scope(Node{WebIO.DOM}(WebIO.DOM(:html, :div), Any[Node{WebIO.DOM}(WebIO.DOM(:html, :div), Any[Node{WebIO.DOM}(WebIO.DOM(:html, :label), Any[\"gauss step\"], Dict{Symbol, Any}(:className => \"interact \", :style => Dict{Any, Any}(:padding => \"5px 10px 0px 10px\")))], Dict{Symbol, Any}(:className => \"interact-flex-row-left\")), Node{WebIO.DOM}(WebIO.DOM(:html, :div), Any[Node{WebIO.DOM}(WebIO.DOM(:html, :input), Any[], Dict{Symbol, Any}(:max => 100, :min => 1, :attributes => Dict{Any, Any}(:type => \"range\", Symbol(\"data-bind\") => \"numericValue: index, valueUpdate: 'input', event: {change: function (){this.changes(this.changes()+1)}}\", \"orient\" => \"horizontal\"), :step => 1, :className => \"slider slider is-fullwidth\", :style => Dict{Any, Any}()))], Dict{Symbol, Any}(:className => \"interact-flex-row-center\")), Node{WebIO.DOM}(WebIO.DOM(:html, :div), Any[Node{WebIO.DOM}(WebIO.DOM(:html, :p), Any[], Dict{Symbol, Any}(:attributes => Dict(\"data-bind\" => \"text: formatted_val\")))], Dict{Symbol, Any}(:className => \"interact-flex-row-right\"))], Dict{Symbol, Any}(:className => \"interact-flex-row interact-widget\")), Dict{String, Tuple{Observables.AbstractObservable, Union{Nothing, Bool}}}(\"changes\" => (Observable{Int64} with 1 listeners. Value:\n",
       "0, nothing), \"index\" => (Observable{Any} with 2 listeners. Value:\n",
       "2, nothing)), Set{String}(), nothing, Asset[Asset(\"js\", \"knockout\", \"/home/browni/.julia/packages/Knockout/3gjS1/src/../assets/knockout.js\"), Asset(\"js\", \"knockout_punches\", \"/home/browni/.julia/packages/Knockout/3gjS1/src/../assets/knockout_punches.js\"), Asset(\"js\", nothing, \"/home/browni/.julia/packages/InteractBase/h8Fwe/src/../assets/all.js\"), Asset(\"css\", nothing, \"/home/browni/.julia/packages/InteractBase/h8Fwe/src/../assets/style.css\"), Asset(\"css\", nothing, \"/home/browni/.julia/packages/Interact/pVyN2/src/../assets/bulma_confined.min.css\")], Dict{Any, Any}(\"changes\" => Any[WebIO.JSString(\"(function (val){return (val!=this.model[\\\"changes\\\"]()) ? (this.valueFromJulia[\\\"changes\\\"]=true, this.model[\\\"changes\\\"](val)) : undefined})\")], \"index\" => Any[WebIO.JSString(\"(function (val){return (val!=this.model[\\\"index\\\"]()) ? (this.valueFromJulia[\\\"index\\\"]=true, this.model[\\\"index\\\"](val)) : undefined})\")]), WebIO.ConnectionPool(Channel{Any}(32), Set{AbstractConnection}(), Condition(Base.InvasiveLinkedList{Task}(Task (runnable) @0x00007f1ce0ba1fb0, Task (runnable) @0x00007f1ce0ba1fb0), Base.AlwaysLockedST(1))), WebIO.JSString[WebIO.JSString(\"function () {\\n    var handler = (function (ko, koPunches) {\\n    ko.punches.enableAll();\\n    ko.bindingHandlers.numericValue = {\\n        init: function(element, valueAccessor, allBindings, data, context) {\\n            var stringified = ko.observable(ko.unwrap(valueAccessor()));\\n            stringified.subscribe(function(value) {\\n                var val = parseFloat(value);\\n                if (!isNaN(val)) {\\n                    valueAccessor()(val);\\n                }\\n            });\\n            valueAccessor().subscribe(function(value) {\\n                var str = JSON.stringify(value);\\n                if ((str == \\\"0\\\") && ([\\\"-0\\\", \\\"-0.\\\"].indexOf(stringified()) >= 0))\\n                     return;\\n                 if ([\\\"null\\\", \\\"\\\"].indexOf(str) >= 0)\\n                     return;\\n                stringified(str);\\n            });\\n            ko.applyBindingsToNode(\\n                element,\\n                {\\n                    value: stringified,\\n                    valueUpdate: allBindings.get('valueUpdate'),\\n                },\\n                context,\\n            );\\n        }\\n    };\\n    var json_data = {\\\"formatted_vals\\\":[\\\"0\\\",\\\"50\\\",\\\"100\\\",\\\"150\\\",\\\"200\\\",\\\"250\\\",\\\"300\\\",\\\"350\\\",\\\"400\\\",\\\"450\\\",\\\"500\\\",\\\"550\\\",\\\"600\\\",\\\"650\\\",\\\"700\\\",\\\"750\\\",\\\"800\\\",\\\"850\\\",\\\"900\\\",\\\"950\\\",\\\"1000\\\",\\\"1050\\\",\\\"1100\\\",\\\"1150\\\",\\\"1200\\\",\\\"1250\\\",\\\"1300\\\",\\\"1350\\\",\\\"1400\\\",\\\"1450\\\",\\\"1500\\\",\\\"1550\\\",\\\"1600\\\",\\\"1650\\\",\\\"1700\\\",\\\"1750\\\",\\\"1800\\\",\\\"1850\\\",\\\"1900\\\",\\\"1950\\\",\\\"2000\\\",\\\"2050\\\",\\\"2100\\\",\\\"2150\\\",\\\"2200\\\",\\\"2250\\\",\\\"2300\\\",\\\"2350\\\",\\\"2400\\\",\\\"2450\\\",\\\"2500\\\",\\\"2550\\\",\\\"2600\\\",\\\"2650\\\",\\\"2700\\\",\\\"2750\\\",\\\"2800\\\",\\\"2850\\\",\\\"2900\\\",\\\"2950\\\",\\\"3000\\\",\\\"3050\\\",\\\"3100\\\",\\\"3150\\\",\\\"3200\\\",\\\"3250\\\",\\\"3300\\\",\\\"3350\\\",\\\"3400\\\",\\\"3450\\\",\\\"3500\\\",\\\"3550\\\",\\\"3600\\\",\\\"3650\\\",\\\"3700\\\",\\\"3750\\\",\\\"3800\\\",\\\"3850\\\",\\\"3900\\\",\\\"3950\\\",\\\"4000\\\",\\\"4050\\\",\\\"4100\\\",\\\"4150\\\",\\\"4200\\\",\\\"4250\\\",\\\"4300\\\",\\\"4350\\\",\\\"4400\\\",\\\"4450\\\",\\\"4500\\\",\\\"4550\\\",\\\"4600\\\",\\\"4650\\\",\\\"4700\\\",\\\"4750\\\",\\\"4800\\\",\\\"4850\\\",\\\"4900\\\",\\\"4950\\\"],\\\"changes\\\":WebIO.getval({\\\"name\\\":\\\"changes\\\",\\\"scope\\\":\\\"12184961378872021038\\\",\\\"id\\\":\\\"15797771484936482102\\\",\\\"type\\\":\\\"observable\\\"}),\\\"index\\\":WebIO.getval({\\\"name\\\":\\\"index\\\",\\\"scope\\\":\\\"12184961378872021038\\\",\\\"id\\\":\\\"15434617351931283241\\\",\\\"type\\\":\\\"observable\\\"})};\\n    var self = this;\\n    function AppViewModel() {\\n        for (var key in json_data) {\\n            var el = json_data[key];\\n            this[key] = Array.isArray(el) ? ko.observableArray(el) : ko.observable(el);\\n        }\\n        \\n        [this[\\\"formatted_val\\\"]=ko.computed(    function(){\\n        return this.formatted_vals()[parseInt(this.index())-(1)];\\n    }\\n,this)]\\n        [this[\\\"changes\\\"].subscribe((function (val){!(this.valueFromJulia[\\\"changes\\\"]) ? (WebIO.setval({\\\"name\\\":\\\"changes\\\",\\\"scope\\\":\\\"12184961378872021038\\\",\\\"id\\\":\\\"15797771484936482102\\\",\\\"type\\\":\\\"observable\\\"},val)) : undefined; return this.valueFromJulia[\\\"changes\\\"]=false}),self),this[\\\"index\\\"].subscribe((function (val){!(this.valueFromJulia[\\\"index\\\"]) ? (WebIO.setval({\\\"name\\\":\\\"index\\\",\\\"scope\\\":\\\"12184961378872021038\\\",\\\"id\\\":\\\"15434617351931283241\\\",\\\"type\\\":\\\"observable\\\"},val)) : undefined; return this.valueFromJulia[\\\"index\\\"]=false}),self)]\\n        \\n    }\\n    self.model = new AppViewModel();\\n    self.valueFromJulia = {};\\n    for (var key in json_data) {\\n        self.valueFromJulia[key] = false;\\n    }\\n    ko.applyBindings(self.model, self.dom);\\n}\\n);\\n    (WebIO.importBlock({\\\"data\\\":[{\\\"name\\\":\\\"knockout\\\",\\\"type\\\":\\\"js\\\",\\\"url\\\":\\\"/assetserver/409cb8170bee23eef410c05eb2a98dbc817b58ab-knockout.js\\\"},{\\\"name\\\":\\\"knockout_punches\\\",\\\"type\\\":\\\"js\\\",\\\"url\\\":\\\"/assetserver/22cdd7eedd5d0872ed6b916924f27ed748ebd2ac-knockout_punches.js\\\"}],\\\"type\\\":\\\"async_block\\\"})).then((imports) => handler.apply(this, imports));\\n}\\n\")])], Dict{Symbol, Any}(:className => \"field interact-widget\")), Observable{Node{WebIO.DOM}} with 0 listeners. Value:\n",
       "Node{WebIO.DOM}(WebIO.DOM(:html, :div), Any[Figure(PyObject <Figure size 640x480 with 2 Axes>)], Dict{Symbol, Any}(:className => \"interact-flex-row interact-widget\"))], Dict{Symbol, Any}())"
      ]
     },
     "execution_count": 26,
     "metadata": {},
     "output_type": "execute_result"
    }
   ],
   "source": [
    "# Visualize the process for larger matrices by using images, \n",
    "# with the PyPlot package (a wrapper around the Python Matplotlib library)\n",
    "\n",
    "using PyPlot\n",
    "\n",
    "m = 100\n",
    "Abig = randn(m,m)\n",
    "fig = figure()\n",
    "nsteps = (m*(m-1))÷2\n",
    "@manipulate for step in slider(0:50:nsteps, value=2, label=\"gauss step\")\n",
    "    withfig(fig) do\n",
    "        U, row, col = naive_gauss(Abig, step)\n",
    "        # I had to experiment a little to find a nice way to plot this\n",
    "        imshow(log10.(abs.(U) .+ 1), cmap=\"hot\", vmin=0, vmax=3)\n",
    "        title(\"step $step: column $col, row $row\")\n",
    "        colorbar(label=L\"\\log_{10}(|U_{i,j}| + 1)\")\n",
    "    end\n",
    "end\n",
    "\n",
    "# Analyze the computational cost of Gaussian elimination and how it scales with the size of the matrix "
   ]
  },
  {
   "cell_type": "markdown",
   "id": "63fb018c",
   "metadata": {},
   "source": [
    "## 1.3. Matrices and Matrix Operations\n",
    "\n",
    "A matrix is a rectangular array of numbers. The numbers in the array are called the entries in the matrix.\n",
    "\n",
    "Two matrices are defined to be equal if they have the same size and their corresponding entries are equal.\n",
    "\n",
    "\n",
    "If $b=Ax$, then b is a linear combination of the columns of A\n",
    "\n"
   ]
  },
  {
   "cell_type": "code",
   "execution_count": 9,
   "id": "e046cb0e",
   "metadata": {},
   "outputs": [
    {
     "data": {
      "text/plain": [
       "2×3 transpose(::Matrix{Int64}) with eltype Int64:\n",
       "  1   2   3\n",
       " 10  20  30"
      ]
     },
     "execution_count": 9,
     "metadata": {},
     "output_type": "execute_result"
    }
   ],
   "source": [
    "# How to create a 2x3 matrix from row vectors #1\n",
    "# Vectors are by default treated as columns in Julia.\n",
    "# For real vectors and matrices, the adjoint (Hermitian conjugate) is the same as transpose. \n",
    "a = [1, 2, 3]\n",
    "b = [10,20,30]\n",
    "m2x3 = transpose(hcat(a,b))\n"
   ]
  },
  {
   "cell_type": "code",
   "execution_count": 10,
   "id": "4feb138b",
   "metadata": {},
   "outputs": [
    {
     "data": {
      "text/plain": [
       "2×3 Matrix{Int64}:\n",
       "  1   2   3\n",
       " 10  20  30"
      ]
     },
     "execution_count": 10,
     "metadata": {},
     "output_type": "execute_result"
    }
   ],
   "source": [
    "# How to create a 2x3 matrix from row vectors #2\n",
    "a = [1, 2, 3]\n",
    "b = [10,20,30]\n",
    "m2x3 = [a' ; b']"
   ]
  },
  {
   "cell_type": "code",
   "execution_count": 11,
   "id": "0b93ac26",
   "metadata": {},
   "outputs": [
    {
     "data": {
      "text/plain": [
       "2×3 Matrix{Int64}:\n",
       "  1   2   3\n",
       " 10  20  30"
      ]
     },
     "execution_count": 11,
     "metadata": {},
     "output_type": "execute_result"
    }
   ],
   "source": [
    "# How to create a 2x3 matrix from row vectors #3\n",
    "a = [1, 2, 3]\n",
    "b = [10,20,30]\n",
    "m2x3 = [transpose(a); transpose(b)]"
   ]
  },
  {
   "cell_type": "code",
   "execution_count": 12,
   "id": "e2337d6a",
   "metadata": {},
   "outputs": [
    {
     "data": {
      "text/plain": [
       "2×3 Matrix{Int64}:\n",
       " 1  4  7\n",
       " 2  5  8"
      ]
     },
     "execution_count": 12,
     "metadata": {},
     "output_type": "execute_result"
    }
   ],
   "source": [
    "# Alternative: [1:2  4:5  7:8]\n",
    "[[1,2]  [4,5]  [7,8]]"
   ]
  },
  {
   "cell_type": "code",
   "execution_count": 14,
   "id": "d7fbcd63",
   "metadata": {},
   "outputs": [
    {
     "data": {
      "text/plain": [
       "4×4 Matrix{Int64}:\n",
       " 8   1  3   1\n",
       " 1   7  1  -1\n",
       " 3  11  7   6\n",
       " 7   9  4   6"
      ]
     },
     "execution_count": 14,
     "metadata": {},
     "output_type": "execute_result"
    }
   ],
   "source": [
    "A = [8 1 3 1\n",
    "1 7 1 -1\n",
    "3 11 7 6\n",
    "7 9 4 6]"
   ]
  },
  {
   "cell_type": "code",
   "execution_count": 15,
   "id": "dfa4f351",
   "metadata": {},
   "outputs": [
    {
     "data": {
      "text/plain": [
       "4-element Vector{Int64}:\n",
       "  9\n",
       "  1\n",
       " 35\n",
       " 72"
      ]
     },
     "execution_count": 15,
     "metadata": {},
     "output_type": "execute_result"
    }
   ],
   "source": [
    "b = [9, 1, 35, 72]"
   ]
  },
  {
   "cell_type": "markdown",
   "id": "a6692e6f",
   "metadata": {},
   "source": [
    "## 1.4. Inverses; Algebraic Properties of Matrices"
   ]
  },
  {
   "cell_type": "code",
   "execution_count": null,
   "id": "1ac8059d",
   "metadata": {},
   "outputs": [],
   "source": []
  },
  {
   "cell_type": "markdown",
   "id": "b2303df0",
   "metadata": {},
   "source": [
    "## 1.5. Elementary Matrices and a Method for Finding Inverses"
   ]
  },
  {
   "cell_type": "code",
   "execution_count": null,
   "id": "877e747b",
   "metadata": {},
   "outputs": [],
   "source": [
    "# invx -- exact inverse\n",
    "using LinearAlgebraX\n",
    "A = [1 2 3;\n",
    "     4 5 6;\n",
    "     7 8 9]\n",
    "invx(A)"
   ]
  },
  {
   "cell_type": "markdown",
   "id": "856cf48c",
   "metadata": {},
   "source": [
    "## 1.6. More on Linear Systems and Invertible Matrices"
   ]
  },
  {
   "cell_type": "code",
   "execution_count": null,
   "id": "38791cc1",
   "metadata": {},
   "outputs": [],
   "source": []
  },
  {
   "cell_type": "markdown",
   "id": "1e6bff17",
   "metadata": {},
   "source": [
    "## 1.7. Diagonal, Triangular, and Symmetric Matrices"
   ]
  },
  {
   "cell_type": "code",
   "execution_count": null,
   "id": "66a63945",
   "metadata": {},
   "outputs": [],
   "source": []
  },
  {
   "cell_type": "code",
   "execution_count": null,
   "id": "5fced62d",
   "metadata": {},
   "outputs": [],
   "source": []
  },
  {
   "cell_type": "code",
   "execution_count": null,
   "id": "70cdfde4",
   "metadata": {},
   "outputs": [],
   "source": []
  },
  {
   "cell_type": "code",
   "execution_count": null,
   "id": "61b06fd2",
   "metadata": {},
   "outputs": [],
   "source": []
  },
  {
   "cell_type": "code",
   "execution_count": null,
   "id": "81d2a6f9",
   "metadata": {},
   "outputs": [],
   "source": []
  },
  {
   "cell_type": "markdown",
   "id": "3d1f01c0",
   "metadata": {},
   "source": [
    "# 2. Determinants"
   ]
  },
  {
   "cell_type": "markdown",
   "id": "5da03dc5",
   "metadata": {},
   "source": [
    "## 2.1. Determinants by Cofactor Expansion"
   ]
  },
  {
   "cell_type": "code",
   "execution_count": null,
   "id": "2eb00f02",
   "metadata": {},
   "outputs": [],
   "source": [
    "# cofactor_det-- slower exact determinant (via cofactor expansion)\n",
    "using LinearAlgebraX\n",
    "A = [1 2 3;\n",
    "     4 5 6;\n",
    "     7 8 9]\n",
    "cofactor_det(A)"
   ]
  },
  {
   "cell_type": "markdown",
   "id": "90223566",
   "metadata": {},
   "source": [
    "## 2.2. Evaluating Determinants by Row Reduction"
   ]
  },
  {
   "cell_type": "code",
   "execution_count": null,
   "id": "490c9dcb",
   "metadata": {},
   "outputs": [],
   "source": [
    "# detx -- exact determinant (via row reduced echelon form)\n",
    "\n",
    "A = [1 2 3;\n",
    "     4 5 6;\n",
    "     7 8 9]\n",
    "detx(A)"
   ]
  },
  {
   "cell_type": "markdown",
   "id": "2abfd42d",
   "metadata": {},
   "source": [
    "## 2.3. Properties of Determinants; Cramer's Rule"
   ]
  },
  {
   "cell_type": "code",
   "execution_count": null,
   "id": "7355993d",
   "metadata": {},
   "outputs": [],
   "source": []
  }
 ],
 "metadata": {
  "@webio": {
   "lastCommId": "ede0e4997a9b478ea6c2296c2097cdeb",
   "lastKernelId": "83c01312-59bb-4e48-96b2-624767259636"
  },
  "kernelspec": {
   "display_name": "Julia 1.7.3",
   "language": "julia",
   "name": "julia-1.7"
  },
  "language_info": {
   "file_extension": ".jl",
   "mimetype": "application/julia",
   "name": "julia",
   "version": "1.7.3"
  }
 },
 "nbformat": 4,
 "nbformat_minor": 5
}
